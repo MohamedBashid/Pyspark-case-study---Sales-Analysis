{
 "cells": [
  {
   "cell_type": "code",
   "execution_count": 0,
   "metadata": {
    "application/vnd.databricks.v1+cell": {
     "cellMetadata": {
      "byteLimit": 2048000,
      "rowLimit": 10000
     },
     "inputWidgets": {},
     "nuid": "6e54159f-bc96-40cc-a7b4-c99764df04aa",
     "showTitle": false,
     "tableResultSettingsMap": {},
     "title": ""
    }
   },
   "outputs": [],
   "source": [
    "sales_file_path = '/FileStore/tables/sales_csv.txt'\n",
    "menu_file_path = '/FileStore/tables/menu_csv.txt'\n",
    "\n"
   ]
  },
  {
   "cell_type": "code",
   "execution_count": 0,
   "metadata": {
    "application/vnd.databricks.v1+cell": {
     "cellMetadata": {
      "byteLimit": 2048000,
      "rowLimit": 10000
     },
     "inputWidgets": {},
     "nuid": "0b457baa-6a5e-4a8a-84d1-33dae9c8c387",
     "showTitle": false,
     "tableResultSettingsMap": {},
     "title": ""
    }
   },
   "outputs": [
    {
     "output_type": "display_data",
     "data": {
      "text/html": [
       "<style scoped>\n",
       "  .table-result-container {\n",
       "    max-height: 300px;\n",
       "    overflow: auto;\n",
       "  }\n",
       "  table, th, td {\n",
       "    border: 1px solid black;\n",
       "    border-collapse: collapse;\n",
       "  }\n",
       "  th, td {\n",
       "    padding: 5px;\n",
       "  }\n",
       "  th {\n",
       "    text-align: left;\n",
       "  }\n",
       "</style><div class='table-result-container'><table class='table-result'><thead style='background-color: white'><tr><th>product_id</th><th>customer_id</th><th>order_date</th><th>location</th><th>source_order</th></tr></thead><tbody><tr><td>1</td><td>A</td><td>2023-01-01</td><td>India</td><td>Swiggy</td></tr><tr><td>2</td><td>A</td><td>2022-01-01</td><td>India</td><td>Swiggy</td></tr><tr><td>2</td><td>A</td><td>2023-01-07</td><td>India</td><td>Swiggy</td></tr><tr><td>3</td><td>A</td><td>2023-01-10</td><td>India</td><td>Restaurant</td></tr><tr><td>3</td><td>A</td><td>2022-01-11</td><td>India</td><td>Swiggy</td></tr><tr><td>3</td><td>A</td><td>2023-01-11</td><td>India</td><td>Restaurant</td></tr><tr><td>2</td><td>B</td><td>2022-02-01</td><td>India</td><td>Swiggy</td></tr><tr><td>2</td><td>B</td><td>2023-01-02</td><td>India</td><td>Swiggy</td></tr><tr><td>1</td><td>B</td><td>2023-01-04</td><td>India</td><td>Restaurant</td></tr><tr><td>1</td><td>B</td><td>2023-02-11</td><td>India</td><td>Swiggy</td></tr><tr><td>3</td><td>B</td><td>2023-01-16</td><td>India</td><td>zomato</td></tr><tr><td>3</td><td>B</td><td>2022-02-01</td><td>India</td><td>zomato</td></tr><tr><td>3</td><td>C</td><td>2023-01-01</td><td>India</td><td>zomato</td></tr><tr><td>1</td><td>C</td><td>2023-01-01</td><td>UK</td><td>Swiggy</td></tr><tr><td>6</td><td>C</td><td>2022-01-07</td><td>UK</td><td>zomato</td></tr><tr><td>3</td><td>D</td><td>2023-02-16</td><td>UK</td><td>Restaurant</td></tr><tr><td>5</td><td>D</td><td>2022-02-01</td><td>UK</td><td>zomato</td></tr><tr><td>3</td><td>E</td><td>2023-02-01</td><td>UK</td><td>Restaurant</td></tr><tr><td>4</td><td>E</td><td>2023-02-01</td><td>UK</td><td>Swiggy</td></tr><tr><td>4</td><td>E</td><td>2023-02-07</td><td>UK</td><td>Restaurant</td></tr><tr><td>2</td><td>A</td><td>2022-01-01</td><td>UK</td><td>Swiggy</td></tr><tr><td>2</td><td>A</td><td>2023-01-07</td><td>UK</td><td>Swiggy</td></tr><tr><td>3</td><td>A</td><td>2023-01-10</td><td>UK</td><td>Restaurant</td></tr><tr><td>3</td><td>A</td><td>2022-01-11</td><td>UK</td><td>Swiggy</td></tr><tr><td>3</td><td>A</td><td>2023-01-11</td><td>UK</td><td>zomato</td></tr><tr><td>2</td><td>B</td><td>2022-03-01</td><td>UK</td><td>zomato</td></tr><tr><td>2</td><td>B</td><td>2023-01-02</td><td>UK</td><td>zomato</td></tr><tr><td>1</td><td>B</td><td>2023-01-04</td><td>UK</td><td>Swiggy</td></tr><tr><td>1</td><td>B</td><td>2023-03-11</td><td>UK</td><td>Restaurant</td></tr><tr><td>3</td><td>B</td><td>2023-01-16</td><td>UK</td><td>Swiggy</td></tr><tr><td>3</td><td>B</td><td>2023-03-01</td><td>UK</td><td>Swiggy</td></tr><tr><td>3</td><td>C</td><td>2023-01-01</td><td>UK</td><td>Restaurant</td></tr><tr><td>1</td><td>C</td><td>2023-01-01</td><td>USA</td><td>Swiggy</td></tr><tr><td>6</td><td>C</td><td>2023-01-07</td><td>USA</td><td>zomato</td></tr><tr><td>3</td><td>D</td><td>2022-03-16</td><td>USA</td><td>zomato</td></tr><tr><td>5</td><td>D</td><td>2023-03-01</td><td>USA</td><td>zomato</td></tr><tr><td>3</td><td>E</td><td>2023-03-01</td><td>USA</td><td>Swiggy</td></tr><tr><td>4</td><td>E</td><td>2022-03-01</td><td>USA</td><td>zomato</td></tr><tr><td>4</td><td>E</td><td>2023-03-07</td><td>USA</td><td>zomato</td></tr><tr><td>1</td><td>A</td><td>2023-05-05</td><td>India</td><td>Swiggy</td></tr><tr><td>2</td><td>A</td><td>2022-05-05</td><td>India</td><td>Swiggy</td></tr><tr><td>2</td><td>A</td><td>2023-05-07</td><td>India</td><td>Swiggy</td></tr><tr><td>3</td><td>A</td><td>2023-05-10</td><td>India</td><td>Restaurant</td></tr><tr><td>3</td><td>A</td><td>2022-05-11</td><td>India</td><td>Swiggy</td></tr><tr><td>3</td><td>A</td><td>2023-05-11</td><td>India</td><td>Restaurant</td></tr><tr><td>2</td><td>B</td><td>2022-02-05</td><td>India</td><td>Swiggy</td></tr><tr><td>2</td><td>B</td><td>2023-05-02</td><td>India</td><td>Swiggy</td></tr><tr><td>1</td><td>B</td><td>2023-05-04</td><td>India</td><td>Restaurant</td></tr><tr><td>1</td><td>B</td><td>2023-02-11</td><td>India</td><td>Swiggy</td></tr><tr><td>3</td><td>B</td><td>2023-05-16</td><td>India</td><td>zomato</td></tr><tr><td>3</td><td>B</td><td>2022-02-05</td><td>India</td><td>zomato</td></tr><tr><td>3</td><td>C</td><td>2023-05-05</td><td>India</td><td>zomato</td></tr><tr><td>1</td><td>C</td><td>2023-05-05</td><td>UK</td><td>Swiggy</td></tr><tr><td>6</td><td>C</td><td>2022-05-07</td><td>UK</td><td>zomato</td></tr><tr><td>3</td><td>D</td><td>2023-02-16</td><td>UK</td><td>Restaurant</td></tr><tr><td>5</td><td>D</td><td>2022-02-05</td><td>UK</td><td>zomato</td></tr><tr><td>3</td><td>E</td><td>2023-02-05</td><td>UK</td><td>Restaurant</td></tr><tr><td>4</td><td>E</td><td>2023-02-05</td><td>UK</td><td>Swiggy</td></tr><tr><td>4</td><td>E</td><td>2023-02-07</td><td>UK</td><td>Restaurant</td></tr><tr><td>2</td><td>A</td><td>2022-05-05</td><td>UK</td><td>Swiggy</td></tr><tr><td>2</td><td>A</td><td>2023-05-07</td><td>UK</td><td>Swiggy</td></tr><tr><td>3</td><td>A</td><td>2023-05-10</td><td>UK</td><td>Restaurant</td></tr><tr><td>3</td><td>A</td><td>2022-05-11</td><td>UK</td><td>Swiggy</td></tr><tr><td>3</td><td>A</td><td>2023-05-11</td><td>UK</td><td>zomato</td></tr><tr><td>2</td><td>B</td><td>2022-07-05</td><td>UK</td><td>zomato</td></tr><tr><td>2</td><td>B</td><td>2023-05-02</td><td>UK</td><td>zomato</td></tr><tr><td>1</td><td>B</td><td>2023-05-04</td><td>UK</td><td>Swiggy</td></tr><tr><td>1</td><td>B</td><td>2023-07-11</td><td>UK</td><td>Restaurant</td></tr><tr><td>3</td><td>B</td><td>2023-05-16</td><td>UK</td><td>Swiggy</td></tr><tr><td>3</td><td>B</td><td>2023-07-05</td><td>UK</td><td>Swiggy</td></tr><tr><td>3</td><td>C</td><td>2023-05-05</td><td>UK</td><td>Restaurant</td></tr><tr><td>1</td><td>C</td><td>2023-05-05</td><td>USA</td><td>Swiggy</td></tr><tr><td>6</td><td>C</td><td>2023-05-07</td><td>USA</td><td>zomato</td></tr><tr><td>3</td><td>D</td><td>2022-07-16</td><td>USA</td><td>zomato</td></tr><tr><td>5</td><td>D</td><td>2023-07-05</td><td>USA</td><td>zomato</td></tr><tr><td>3</td><td>E</td><td>2023-07-05</td><td>USA</td><td>Swiggy</td></tr><tr><td>4</td><td>E</td><td>2022-07-05</td><td>USA</td><td>zomato</td></tr><tr><td>4</td><td>E</td><td>2023-07-07</td><td>USA</td><td>zomato</td></tr><tr><td>1</td><td>A</td><td>2023-06-06</td><td>India</td><td>Swiggy</td></tr><tr><td>2</td><td>A</td><td>2022-06-06</td><td>India</td><td>Swiggy</td></tr><tr><td>2</td><td>A</td><td>2023-06-11</td><td>India</td><td>Swiggy</td></tr><tr><td>3</td><td>A</td><td>2023-06-10</td><td>India</td><td>Restaurant</td></tr><tr><td>3</td><td>A</td><td>2022-06-11</td><td>India</td><td>Swiggy</td></tr><tr><td>3</td><td>A</td><td>2023-06-11</td><td>India</td><td>Restaurant</td></tr><tr><td>2</td><td>B</td><td>2022-02-06</td><td>India</td><td>Swiggy</td></tr><tr><td>2</td><td>B</td><td>2023-06-02</td><td>India</td><td>Swiggy</td></tr><tr><td>1</td><td>B</td><td>2023-06-04</td><td>India</td><td>Restaurant</td></tr><tr><td>1</td><td>B</td><td>2023-02-11</td><td>India</td><td>Swiggy</td></tr><tr><td>3</td><td>B</td><td>2023-06-16</td><td>India</td><td>zomato</td></tr><tr><td>3</td><td>B</td><td>2022-02-06</td><td>India</td><td>zomato</td></tr><tr><td>3</td><td>C</td><td>2023-06-06</td><td>India</td><td>zomato</td></tr><tr><td>1</td><td>C</td><td>2023-06-06</td><td>UK</td><td>Swiggy</td></tr><tr><td>6</td><td>C</td><td>2022-06-11</td><td>UK</td><td>zomato</td></tr><tr><td>3</td><td>D</td><td>2023-02-16</td><td>UK</td><td>Restaurant</td></tr><tr><td>5</td><td>D</td><td>2022-02-06</td><td>UK</td><td>zomato</td></tr><tr><td>3</td><td>E</td><td>2023-02-06</td><td>UK</td><td>Restaurant</td></tr><tr><td>4</td><td>E</td><td>2023-02-06</td><td>UK</td><td>Swiggy</td></tr><tr><td>4</td><td>E</td><td>2023-02-11</td><td>UK</td><td>Restaurant</td></tr><tr><td>2</td><td>A</td><td>2022-06-06</td><td>UK</td><td>Swiggy</td></tr><tr><td>2</td><td>A</td><td>2023-06-11</td><td>UK</td><td>Swiggy</td></tr><tr><td>3</td><td>A</td><td>2023-06-10</td><td>UK</td><td>Restaurant</td></tr><tr><td>3</td><td>A</td><td>2022-06-11</td><td>UK</td><td>Swiggy</td></tr><tr><td>3</td><td>A</td><td>2023-06-11</td><td>UK</td><td>zomato</td></tr><tr><td>2</td><td>B</td><td>2022-11-06</td><td>UK</td><td>zomato</td></tr><tr><td>2</td><td>B</td><td>2023-06-02</td><td>UK</td><td>zomato</td></tr><tr><td>1</td><td>B</td><td>2023-06-04</td><td>UK</td><td>Swiggy</td></tr><tr><td>1</td><td>B</td><td>2023-11-11</td><td>UK</td><td>Restaurant</td></tr><tr><td>3</td><td>B</td><td>2023-06-16</td><td>UK</td><td>Swiggy</td></tr><tr><td>3</td><td>B</td><td>2023-11-06</td><td>UK</td><td>Swiggy</td></tr><tr><td>3</td><td>C</td><td>2023-06-06</td><td>UK</td><td>Restaurant</td></tr><tr><td>1</td><td>C</td><td>2023-06-06</td><td>USA</td><td>Swiggy</td></tr><tr><td>6</td><td>C</td><td>2023-06-11</td><td>USA</td><td>zomato</td></tr><tr><td>3</td><td>D</td><td>2022-11-16</td><td>USA</td><td>zomato</td></tr><tr><td>5</td><td>D</td><td>2023-11-06</td><td>USA</td><td>zomato</td></tr><tr><td>3</td><td>E</td><td>2023-11-06</td><td>USA</td><td>Swiggy</td></tr><tr><td>4</td><td>E</td><td>2022-11-06</td><td>USA</td><td>zomato</td></tr><tr><td>4</td><td>E</td><td>2023-11-11</td><td>USA</td><td>zomato</td></tr></tbody></table></div>"
      ]
     },
     "metadata": {
      "application/vnd.databricks.v1+output": {
       "addedWidgets": {},
       "aggData": [],
       "aggError": "",
       "aggOverflow": false,
       "aggSchema": [],
       "aggSeriesLimitReached": false,
       "aggType": "",
       "arguments": {},
       "columnCustomDisplayInfos": {},
       "data": [
        [
         1,
         "A",
         "2023-01-01",
         "India",
         "Swiggy"
        ],
        [
         2,
         "A",
         "2022-01-01",
         "India",
         "Swiggy"
        ],
        [
         2,
         "A",
         "2023-01-07",
         "India",
         "Swiggy"
        ],
        [
         3,
         "A",
         "2023-01-10",
         "India",
         "Restaurant"
        ],
        [
         3,
         "A",
         "2022-01-11",
         "India",
         "Swiggy"
        ],
        [
         3,
         "A",
         "2023-01-11",
         "India",
         "Restaurant"
        ],
        [
         2,
         "B",
         "2022-02-01",
         "India",
         "Swiggy"
        ],
        [
         2,
         "B",
         "2023-01-02",
         "India",
         "Swiggy"
        ],
        [
         1,
         "B",
         "2023-01-04",
         "India",
         "Restaurant"
        ],
        [
         1,
         "B",
         "2023-02-11",
         "India",
         "Swiggy"
        ],
        [
         3,
         "B",
         "2023-01-16",
         "India",
         "zomato"
        ],
        [
         3,
         "B",
         "2022-02-01",
         "India",
         "zomato"
        ],
        [
         3,
         "C",
         "2023-01-01",
         "India",
         "zomato"
        ],
        [
         1,
         "C",
         "2023-01-01",
         "UK",
         "Swiggy"
        ],
        [
         6,
         "C",
         "2022-01-07",
         "UK",
         "zomato"
        ],
        [
         3,
         "D",
         "2023-02-16",
         "UK",
         "Restaurant"
        ],
        [
         5,
         "D",
         "2022-02-01",
         "UK",
         "zomato"
        ],
        [
         3,
         "E",
         "2023-02-01",
         "UK",
         "Restaurant"
        ],
        [
         4,
         "E",
         "2023-02-01",
         "UK",
         "Swiggy"
        ],
        [
         4,
         "E",
         "2023-02-07",
         "UK",
         "Restaurant"
        ],
        [
         2,
         "A",
         "2022-01-01",
         "UK",
         "Swiggy"
        ],
        [
         2,
         "A",
         "2023-01-07",
         "UK",
         "Swiggy"
        ],
        [
         3,
         "A",
         "2023-01-10",
         "UK",
         "Restaurant"
        ],
        [
         3,
         "A",
         "2022-01-11",
         "UK",
         "Swiggy"
        ],
        [
         3,
         "A",
         "2023-01-11",
         "UK",
         "zomato"
        ],
        [
         2,
         "B",
         "2022-03-01",
         "UK",
         "zomato"
        ],
        [
         2,
         "B",
         "2023-01-02",
         "UK",
         "zomato"
        ],
        [
         1,
         "B",
         "2023-01-04",
         "UK",
         "Swiggy"
        ],
        [
         1,
         "B",
         "2023-03-11",
         "UK",
         "Restaurant"
        ],
        [
         3,
         "B",
         "2023-01-16",
         "UK",
         "Swiggy"
        ],
        [
         3,
         "B",
         "2023-03-01",
         "UK",
         "Swiggy"
        ],
        [
         3,
         "C",
         "2023-01-01",
         "UK",
         "Restaurant"
        ],
        [
         1,
         "C",
         "2023-01-01",
         "USA",
         "Swiggy"
        ],
        [
         6,
         "C",
         "2023-01-07",
         "USA",
         "zomato"
        ],
        [
         3,
         "D",
         "2022-03-16",
         "USA",
         "zomato"
        ],
        [
         5,
         "D",
         "2023-03-01",
         "USA",
         "zomato"
        ],
        [
         3,
         "E",
         "2023-03-01",
         "USA",
         "Swiggy"
        ],
        [
         4,
         "E",
         "2022-03-01",
         "USA",
         "zomato"
        ],
        [
         4,
         "E",
         "2023-03-07",
         "USA",
         "zomato"
        ],
        [
         1,
         "A",
         "2023-05-05",
         "India",
         "Swiggy"
        ],
        [
         2,
         "A",
         "2022-05-05",
         "India",
         "Swiggy"
        ],
        [
         2,
         "A",
         "2023-05-07",
         "India",
         "Swiggy"
        ],
        [
         3,
         "A",
         "2023-05-10",
         "India",
         "Restaurant"
        ],
        [
         3,
         "A",
         "2022-05-11",
         "India",
         "Swiggy"
        ],
        [
         3,
         "A",
         "2023-05-11",
         "India",
         "Restaurant"
        ],
        [
         2,
         "B",
         "2022-02-05",
         "India",
         "Swiggy"
        ],
        [
         2,
         "B",
         "2023-05-02",
         "India",
         "Swiggy"
        ],
        [
         1,
         "B",
         "2023-05-04",
         "India",
         "Restaurant"
        ],
        [
         1,
         "B",
         "2023-02-11",
         "India",
         "Swiggy"
        ],
        [
         3,
         "B",
         "2023-05-16",
         "India",
         "zomato"
        ],
        [
         3,
         "B",
         "2022-02-05",
         "India",
         "zomato"
        ],
        [
         3,
         "C",
         "2023-05-05",
         "India",
         "zomato"
        ],
        [
         1,
         "C",
         "2023-05-05",
         "UK",
         "Swiggy"
        ],
        [
         6,
         "C",
         "2022-05-07",
         "UK",
         "zomato"
        ],
        [
         3,
         "D",
         "2023-02-16",
         "UK",
         "Restaurant"
        ],
        [
         5,
         "D",
         "2022-02-05",
         "UK",
         "zomato"
        ],
        [
         3,
         "E",
         "2023-02-05",
         "UK",
         "Restaurant"
        ],
        [
         4,
         "E",
         "2023-02-05",
         "UK",
         "Swiggy"
        ],
        [
         4,
         "E",
         "2023-02-07",
         "UK",
         "Restaurant"
        ],
        [
         2,
         "A",
         "2022-05-05",
         "UK",
         "Swiggy"
        ],
        [
         2,
         "A",
         "2023-05-07",
         "UK",
         "Swiggy"
        ],
        [
         3,
         "A",
         "2023-05-10",
         "UK",
         "Restaurant"
        ],
        [
         3,
         "A",
         "2022-05-11",
         "UK",
         "Swiggy"
        ],
        [
         3,
         "A",
         "2023-05-11",
         "UK",
         "zomato"
        ],
        [
         2,
         "B",
         "2022-07-05",
         "UK",
         "zomato"
        ],
        [
         2,
         "B",
         "2023-05-02",
         "UK",
         "zomato"
        ],
        [
         1,
         "B",
         "2023-05-04",
         "UK",
         "Swiggy"
        ],
        [
         1,
         "B",
         "2023-07-11",
         "UK",
         "Restaurant"
        ],
        [
         3,
         "B",
         "2023-05-16",
         "UK",
         "Swiggy"
        ],
        [
         3,
         "B",
         "2023-07-05",
         "UK",
         "Swiggy"
        ],
        [
         3,
         "C",
         "2023-05-05",
         "UK",
         "Restaurant"
        ],
        [
         1,
         "C",
         "2023-05-05",
         "USA",
         "Swiggy"
        ],
        [
         6,
         "C",
         "2023-05-07",
         "USA",
         "zomato"
        ],
        [
         3,
         "D",
         "2022-07-16",
         "USA",
         "zomato"
        ],
        [
         5,
         "D",
         "2023-07-05",
         "USA",
         "zomato"
        ],
        [
         3,
         "E",
         "2023-07-05",
         "USA",
         "Swiggy"
        ],
        [
         4,
         "E",
         "2022-07-05",
         "USA",
         "zomato"
        ],
        [
         4,
         "E",
         "2023-07-07",
         "USA",
         "zomato"
        ],
        [
         1,
         "A",
         "2023-06-06",
         "India",
         "Swiggy"
        ],
        [
         2,
         "A",
         "2022-06-06",
         "India",
         "Swiggy"
        ],
        [
         2,
         "A",
         "2023-06-11",
         "India",
         "Swiggy"
        ],
        [
         3,
         "A",
         "2023-06-10",
         "India",
         "Restaurant"
        ],
        [
         3,
         "A",
         "2022-06-11",
         "India",
         "Swiggy"
        ],
        [
         3,
         "A",
         "2023-06-11",
         "India",
         "Restaurant"
        ],
        [
         2,
         "B",
         "2022-02-06",
         "India",
         "Swiggy"
        ],
        [
         2,
         "B",
         "2023-06-02",
         "India",
         "Swiggy"
        ],
        [
         1,
         "B",
         "2023-06-04",
         "India",
         "Restaurant"
        ],
        [
         1,
         "B",
         "2023-02-11",
         "India",
         "Swiggy"
        ],
        [
         3,
         "B",
         "2023-06-16",
         "India",
         "zomato"
        ],
        [
         3,
         "B",
         "2022-02-06",
         "India",
         "zomato"
        ],
        [
         3,
         "C",
         "2023-06-06",
         "India",
         "zomato"
        ],
        [
         1,
         "C",
         "2023-06-06",
         "UK",
         "Swiggy"
        ],
        [
         6,
         "C",
         "2022-06-11",
         "UK",
         "zomato"
        ],
        [
         3,
         "D",
         "2023-02-16",
         "UK",
         "Restaurant"
        ],
        [
         5,
         "D",
         "2022-02-06",
         "UK",
         "zomato"
        ],
        [
         3,
         "E",
         "2023-02-06",
         "UK",
         "Restaurant"
        ],
        [
         4,
         "E",
         "2023-02-06",
         "UK",
         "Swiggy"
        ],
        [
         4,
         "E",
         "2023-02-11",
         "UK",
         "Restaurant"
        ],
        [
         2,
         "A",
         "2022-06-06",
         "UK",
         "Swiggy"
        ],
        [
         2,
         "A",
         "2023-06-11",
         "UK",
         "Swiggy"
        ],
        [
         3,
         "A",
         "2023-06-10",
         "UK",
         "Restaurant"
        ],
        [
         3,
         "A",
         "2022-06-11",
         "UK",
         "Swiggy"
        ],
        [
         3,
         "A",
         "2023-06-11",
         "UK",
         "zomato"
        ],
        [
         2,
         "B",
         "2022-11-06",
         "UK",
         "zomato"
        ],
        [
         2,
         "B",
         "2023-06-02",
         "UK",
         "zomato"
        ],
        [
         1,
         "B",
         "2023-06-04",
         "UK",
         "Swiggy"
        ],
        [
         1,
         "B",
         "2023-11-11",
         "UK",
         "Restaurant"
        ],
        [
         3,
         "B",
         "2023-06-16",
         "UK",
         "Swiggy"
        ],
        [
         3,
         "B",
         "2023-11-06",
         "UK",
         "Swiggy"
        ],
        [
         3,
         "C",
         "2023-06-06",
         "UK",
         "Restaurant"
        ],
        [
         1,
         "C",
         "2023-06-06",
         "USA",
         "Swiggy"
        ],
        [
         6,
         "C",
         "2023-06-11",
         "USA",
         "zomato"
        ],
        [
         3,
         "D",
         "2022-11-16",
         "USA",
         "zomato"
        ],
        [
         5,
         "D",
         "2023-11-06",
         "USA",
         "zomato"
        ],
        [
         3,
         "E",
         "2023-11-06",
         "USA",
         "Swiggy"
        ],
        [
         4,
         "E",
         "2022-11-06",
         "USA",
         "zomato"
        ],
        [
         4,
         "E",
         "2023-11-11",
         "USA",
         "zomato"
        ]
       ],
       "datasetInfos": [],
       "dbfsResultPath": null,
       "isJsonSchema": true,
       "metadata": {},
       "overflow": false,
       "plotOptions": {
        "customPlotOptions": {},
        "displayType": "table",
        "pivotAggregation": null,
        "pivotColumns": null,
        "xColumns": null,
        "yColumns": null
       },
       "removedWidgets": [],
       "schema": [
        {
         "metadata": "{}",
         "name": "product_id",
         "type": "\"integer\""
        },
        {
         "metadata": "{}",
         "name": "customer_id",
         "type": "\"string\""
        },
        {
         "metadata": "{}",
         "name": "order_date",
         "type": "\"date\""
        },
        {
         "metadata": "{}",
         "name": "location",
         "type": "\"string\""
        },
        {
         "metadata": "{}",
         "name": "source_order",
         "type": "\"string\""
        }
       ],
       "type": "table"
      }
     },
     "output_type": "display_data"
    }
   ],
   "source": [
    "from pyspark.sql.types import StructType, StructField, IntegerType, StringType,DateType \n",
    "schema = StructType([StructField(\"product_id\", IntegerType(), True), \n",
    "                     StructField(\"customer_id\", StringType(), True), \n",
    "                     StructField(\"order_date\", DateType(), True), \n",
    "                     StructField(\"location\", StringType(), True), \n",
    "                     StructField(\"source_order\", StringType(), True)])\n",
    "sales_df=spark.read.format(\"csv\").option(\"inferSchema\",\"true\").schema(schema).load(sales_file_path)\n",
    "display(sales_df)\n"
   ]
  },
  {
   "cell_type": "code",
   "execution_count": 0,
   "metadata": {
    "application/vnd.databricks.v1+cell": {
     "cellMetadata": {
      "byteLimit": 2048000,
      "rowLimit": 10000
     },
     "inputWidgets": {},
     "nuid": "15195e55-f3c1-4353-abb0-9c89036a3fd0",
     "showTitle": false,
     "tableResultSettingsMap": {},
     "title": ""
    }
   },
   "outputs": [
    {
     "output_type": "display_data",
     "data": {
      "text/html": [
       "<style scoped>\n",
       "  .table-result-container {\n",
       "    max-height: 300px;\n",
       "    overflow: auto;\n",
       "  }\n",
       "  table, th, td {\n",
       "    border: 1px solid black;\n",
       "    border-collapse: collapse;\n",
       "  }\n",
       "  th, td {\n",
       "    padding: 5px;\n",
       "  }\n",
       "  th {\n",
       "    text-align: left;\n",
       "  }\n",
       "</style><div class='table-result-container'><table class='table-result'><thead style='background-color: white'><tr><th>product_id</th><th>product_name</th><th>price</th></tr></thead><tbody><tr><td>1</td><td>PIZZA</td><td>100</td></tr><tr><td>2</td><td>Chowmin</td><td>150</td></tr><tr><td>3</td><td>sandwich</td><td>120</td></tr><tr><td>4</td><td>Dosa</td><td>110</td></tr><tr><td>5</td><td>Biryani</td><td>80</td></tr><tr><td>6</td><td>Pasta</td><td>180</td></tr></tbody></table></div>"
      ]
     },
     "metadata": {
      "application/vnd.databricks.v1+output": {
       "addedWidgets": {},
       "aggData": [],
       "aggError": "",
       "aggOverflow": false,
       "aggSchema": [],
       "aggSeriesLimitReached": false,
       "aggType": "",
       "arguments": {},
       "columnCustomDisplayInfos": {},
       "data": [
        [
         1,
         "PIZZA",
         100
        ],
        [
         2,
         "Chowmin",
         150
        ],
        [
         3,
         "sandwich",
         120
        ],
        [
         4,
         "Dosa",
         110
        ],
        [
         5,
         "Biryani",
         80
        ],
        [
         6,
         "Pasta",
         180
        ]
       ],
       "datasetInfos": [],
       "dbfsResultPath": null,
       "isJsonSchema": true,
       "metadata": {},
       "overflow": false,
       "plotOptions": {
        "customPlotOptions": {},
        "displayType": "table",
        "pivotAggregation": null,
        "pivotColumns": null,
        "xColumns": null,
        "yColumns": null
       },
       "removedWidgets": [],
       "schema": [
        {
         "metadata": "{}",
         "name": "product_id",
         "type": "\"integer\""
        },
        {
         "metadata": "{}",
         "name": "product_name",
         "type": "\"string\""
        },
        {
         "metadata": "{}",
         "name": "price",
         "type": "\"integer\""
        }
       ],
       "type": "table"
      }
     },
     "output_type": "display_data"
    }
   ],
   "source": [
    "schema = StructType([StructField(\"product_id\", IntegerType(), True), \n",
    "                     StructField(\"product_name\", StringType(), True), \n",
    "                     StructField(\"price\", IntegerType(), True)])\n",
    "menu_df=spark.read.format(\"csv\").option(\"inferSchema\",\"true\").schema(schema).load(menu_file_path)\n",
    "display(sales_df)"
   ]
  },
  {
   "cell_type": "code",
   "execution_count": 0,
   "metadata": {
    "application/vnd.databricks.v1+cell": {
     "cellMetadata": {
      "byteLimit": 2048000,
      "rowLimit": 10000
     },
     "inputWidgets": {},
     "nuid": "3bd8d020-fac8-45e7-8120-c0e1ddbf70ec",
     "showTitle": true,
     "tableResultSettingsMap": {},
     "title": "Total Amount spent by each customer"
    }
   },
   "outputs": [
    {
     "output_type": "display_data",
     "data": {
      "text/html": [
       "<style scoped>\n",
       "  .table-result-container {\n",
       "    max-height: 300px;\n",
       "    overflow: auto;\n",
       "  }\n",
       "  table, th, td {\n",
       "    border: 1px solid black;\n",
       "    border-collapse: collapse;\n",
       "  }\n",
       "  th, td {\n",
       "    padding: 5px;\n",
       "  }\n",
       "  th {\n",
       "    text-align: left;\n",
       "  }\n",
       "</style><div class='table-result-container'><table class='table-result'><thead style='background-color: white'><tr><th>customer_id</th><th>Total amount spent by the customer</th></tr></thead><tbody><tr><td>A</td><td>4260</td></tr><tr><td>B</td><td>4440</td></tr><tr><td>C</td><td>2400</td></tr><tr><td>D</td><td>1200</td></tr><tr><td>E</td><td>2040</td></tr></tbody></table></div>"
      ]
     },
     "metadata": {
      "application/vnd.databricks.v1+output": {
       "addedWidgets": {},
       "aggData": [],
       "aggError": "",
       "aggOverflow": false,
       "aggSchema": [],
       "aggSeriesLimitReached": false,
       "aggType": "",
       "arguments": {},
       "columnCustomDisplayInfos": {},
       "data": [
        [
         "A",
         4260
        ],
        [
         "B",
         4440
        ],
        [
         "C",
         2400
        ],
        [
         "D",
         1200
        ],
        [
         "E",
         2040
        ]
       ],
       "datasetInfos": [],
       "dbfsResultPath": null,
       "isJsonSchema": true,
       "metadata": {},
       "overflow": false,
       "plotOptions": {
        "customPlotOptions": {},
        "displayType": "table",
        "pivotAggregation": null,
        "pivotColumns": null,
        "xColumns": null,
        "yColumns": null
       },
       "removedWidgets": [],
       "schema": [
        {
         "metadata": "{}",
         "name": "customer_id",
         "type": "\"string\""
        },
        {
         "metadata": "{}",
         "name": "Total amount spent by the customer",
         "type": "\"long\""
        }
       ],
       "type": "table"
      }
     },
     "output_type": "display_data"
    },
    {
     "output_type": "display_data",
     "data": {
      "text/plain": [
       "Databricks visualization. Run in Databricks to view."
      ]
     },
     "metadata": {
      "application/vnd.databricks.v1.subcommand+json": {
       "baseErrorDetails": null,
       "bindings": {},
       "collapsed": false,
       "command": "%python\n__backend_agg_display_orig = display\n__backend_agg_dfs = []\ndef __backend_agg_display_new(df):\n    __backend_agg_df_modules = [\"pandas.core.frame\", \"databricks.koalas.frame\", \"pyspark.sql.dataframe\", \"pyspark.pandas.frame\", \"pyspark.sql.connect.dataframe\"]\n    if (type(df).__module__ in __backend_agg_df_modules and type(df).__name__ == 'DataFrame') or isinstance(df, list):\n        __backend_agg_dfs.append(df)\n\ndisplay = __backend_agg_display_new\n\ndef __backend_agg_user_code_fn():\n    import base64\n    exec(base64.standard_b64decode(\"ZnJvbSBweXNwYXJrLnNxbCBpbXBvcnQgZnVuY3Rpb25zIGFzIEYKZGYxID0gc2FsZXNfZGYuam9pbihtZW51X2RmLHNhbGVzX2RmLnByb2R1Y3RfaWQ9PW1lbnVfZGYucHJvZHVjdF9pZCwnaW5uZXInKS5ncm91cEJ5KHNhbGVzX2RmLmN1c3RvbWVyX2lkKS5hZ2coRi5zdW0obWVudV9kZi5wcmljZSkuYWxpYXMoJ1RvdGFsIGFtb3VudCBzcGVudCBieSB0aGUgY3VzdG9tZXInKSkub3JkZXJCeShzYWxlc19kZi5jdXN0b21lcl9pZCkKZGlzcGxheShkZjEp\").decode())\n\ntry:\n    # run user code\n    __backend_agg_user_code_fn()\n\n    #reset display function\n    display = __backend_agg_display_orig\n\n    if len(__backend_agg_dfs) > 0:\n        # create a temp view\n        if type(__backend_agg_dfs[0]).__module__ == \"databricks.koalas.frame\":\n            # koalas dataframe\n            __backend_agg_dfs[0].to_spark().createOrReplaceTempView(\"DatabricksView1f4b778\")\n        elif type(__backend_agg_dfs[0]).__module__ == \"pandas.core.frame\" or isinstance(__backend_agg_dfs[0], list):\n            # pandas dataframe\n            spark.createDataFrame(__backend_agg_dfs[0]).createOrReplaceTempView(\"DatabricksView1f4b778\")\n        else:\n            __backend_agg_dfs[0].createOrReplaceTempView(\"DatabricksView1f4b778\")\n        #run backend agg\n        display(spark.sql(\"\"\"WITH q AS (select * from DatabricksView1f4b778) SELECT `customer_id`,SUM(`Total amount spent by the customer`) `column_7dfee5cf2` FROM q GROUP BY `customer_id`\"\"\"))\n    else:\n        displayHTML(\"dataframe no longer exists. If you're using dataframe.display(), use display(dataframe) instead.\")\n\n\nfinally:\n    spark.sql(\"drop view if exists DatabricksView1f4b778\")\n    display = __backend_agg_display_orig\n    del __backend_agg_display_new\n    del __backend_agg_display_orig\n    del __backend_agg_dfs\n    del __backend_agg_user_code_fn\n\n",
       "commandTitle": "Visualization 1",
       "commandType": "auto",
       "commandVersion": 0,
       "commentThread": [],
       "commentsVisible": false,
       "contentSha256Hex": null,
       "customPlotOptions": {
        "redashChart": [
         {
          "key": "type",
          "value": "CHART"
         },
         {
          "key": "options",
          "value": {
           "alignYAxesAtZero": true,
           "coefficient": 1,
           "columnConfigurationMap": {
            "x": {
             "column": "customer_id",
             "id": "column_7dfee5cf1"
            },
            "y": [
             {
              "column": "Total amount spent by the customer",
              "id": "column_7dfee5cf2",
              "transform": "SUM"
             }
            ]
           },
           "dateTimeFormat": "DD/MM/YYYY HH:mm",
           "direction": {
            "type": "counterclockwise"
           },
           "error_y": {
            "type": "data",
            "visible": true
           },
           "globalSeriesType": "area",
           "isAggregationOn": true,
           "legend": {
            "traceorder": "normal"
           },
           "missingValuesAsZero": true,
           "numberFormat": "0,0.[00000]",
           "percentFormat": "0[.]00%",
           "series": {
            "error_y": {
             "type": "data",
             "visible": true
            },
            "stacking": null
           },
           "seriesOptions": {
            "column_7dfee5cf2": {
             "name": "Total amount spent by the customer",
             "type": "area",
             "yAxis": 0
            }
           },
           "showDataLabels": true,
           "sizemode": "diameter",
           "sortX": true,
           "sortY": true,
           "swappedAxes": false,
           "textFormat": "",
           "useAggregationsUi": true,
           "valuesOptions": {},
           "version": 2,
           "xAxis": {
            "labels": {
             "enabled": true
            },
            "type": "-"
           },
           "yAxis": [
            {
             "type": "-"
            },
            {
             "opposite": true,
             "type": "-"
            }
           ]
          }
         }
        ]
       },
       "datasetPreviewNameToCmdIdMap": {},
       "diffDeletes": [],
       "diffInserts": [],
       "displayType": "redashChart",
       "error": null,
       "errorDetails": null,
       "errorSummary": null,
       "errorTraceType": null,
       "finishTime": 0,
       "globalVars": {},
       "guid": "",
       "height": "auto",
       "hideCommandCode": false,
       "hideCommandResult": false,
       "iPythonMetadata": null,
       "inputWidgets": {},
       "isLockedInExamMode": false,
       "latestUser": "a user",
       "latestUserId": null,
       "listResultMetadata": null,
       "metadata": {},
       "nuid": "60860820-1c19-4817-ab47-7183df99a661",
       "origId": 0,
       "parentHierarchy": [],
       "pivotAggregation": null,
       "pivotColumns": null,
       "position": 5.0,
       "resultDbfsErrorMessage": null,
       "resultDbfsStatus": "INLINED_IN_TREE",
       "results": null,
       "showCommandTitle": false,
       "startTime": 0,
       "state": "input",
       "streamStates": {},
       "subcommandOptions": {
        "queryPlan": {
         "groups": [
          {
           "column": "customer_id",
           "type": "column"
          }
         ],
         "selects": [
          {
           "column": "customer_id",
           "type": "column"
          },
          {
           "alias": "column_7dfee5cf2",
           "args": [
            {
             "column": "Total amount spent by the customer",
             "type": "column"
            }
           ],
           "function": "SUM",
           "type": "function"
          }
         ]
        }
       },
       "submitTime": 0,
       "subtype": "tableResultSubCmd.visualization",
       "tableResultIndex": 0,
       "tableResultSettingsMap": {},
       "useConsistentColors": false,
       "version": "CommandV1",
       "width": "auto",
       "workflows": [],
       "xColumns": null,
       "yColumns": null
      }
     },
     "output_type": "display_data"
    }
   ],
   "source": [
    "from pyspark.sql import functions as F\n",
    "df1 = sales_df.join(menu_df,sales_df.product_id==menu_df.product_id,'inner').groupBy(sales_df.customer_id).agg(F.sum(menu_df.price).alias('Total amount spent by the customer')).orderBy(sales_df.customer_id)\n",
    "display(df1)"
   ]
  },
  {
   "cell_type": "code",
   "execution_count": 0,
   "metadata": {
    "application/vnd.databricks.v1+cell": {
     "cellMetadata": {
      "byteLimit": 2048000,
      "rowLimit": 10000
     },
     "inputWidgets": {},
     "nuid": "c6047dad-b538-4759-b4b2-1b54d261291e",
     "showTitle": true,
     "tableResultSettingsMap": {},
     "title": "Total Amount spent by each food category"
    }
   },
   "outputs": [
    {
     "output_type": "display_data",
     "data": {
      "text/html": [
       "<style scoped>\n",
       "  .table-result-container {\n",
       "    max-height: 300px;\n",
       "    overflow: auto;\n",
       "  }\n",
       "  table, th, td {\n",
       "    border: 1px solid black;\n",
       "    border-collapse: collapse;\n",
       "  }\n",
       "  th, td {\n",
       "    padding: 5px;\n",
       "  }\n",
       "  th {\n",
       "    text-align: left;\n",
       "  }\n",
       "</style><div class='table-result-container'><table class='table-result'><thead style='background-color: white'><tr><th>product_name</th><th>Total amount spent</th></tr></thead><tbody><tr><td>Biryani</td><td>480</td></tr><tr><td>Chowmin</td><td>3600</td></tr><tr><td>Dosa</td><td>1320</td></tr><tr><td>PIZZA</td><td>2100</td></tr><tr><td>Pasta</td><td>1080</td></tr><tr><td>sandwich</td><td>5760</td></tr></tbody></table></div>"
      ]
     },
     "metadata": {
      "application/vnd.databricks.v1+output": {
       "addedWidgets": {},
       "aggData": [],
       "aggError": "",
       "aggOverflow": false,
       "aggSchema": [],
       "aggSeriesLimitReached": false,
       "aggType": "",
       "arguments": {},
       "columnCustomDisplayInfos": {},
       "data": [
        [
         "Biryani",
         480
        ],
        [
         "Chowmin",
         3600
        ],
        [
         "Dosa",
         1320
        ],
        [
         "PIZZA",
         2100
        ],
        [
         "Pasta",
         1080
        ],
        [
         "sandwich",
         5760
        ]
       ],
       "datasetInfos": [],
       "dbfsResultPath": null,
       "isJsonSchema": true,
       "metadata": {},
       "overflow": false,
       "plotOptions": {
        "customPlotOptions": {},
        "displayType": "table",
        "pivotAggregation": null,
        "pivotColumns": null,
        "xColumns": null,
        "yColumns": null
       },
       "removedWidgets": [],
       "schema": [
        {
         "metadata": "{}",
         "name": "product_name",
         "type": "\"string\""
        },
        {
         "metadata": "{}",
         "name": "Total amount spent",
         "type": "\"long\""
        }
       ],
       "type": "table"
      }
     },
     "output_type": "display_data"
    },
    {
     "output_type": "display_data",
     "data": {
      "text/plain": [
       "Databricks visualization. Run in Databricks to view."
      ]
     },
     "metadata": {
      "application/vnd.databricks.v1.subcommand+json": {
       "baseErrorDetails": null,
       "bindings": {},
       "collapsed": false,
       "command": "%python\n__backend_agg_display_orig = display\n__backend_agg_dfs = []\ndef __backend_agg_display_new(df):\n    __backend_agg_df_modules = [\"pandas.core.frame\", \"databricks.koalas.frame\", \"pyspark.sql.dataframe\", \"pyspark.pandas.frame\", \"pyspark.sql.connect.dataframe\"]\n    if (type(df).__module__ in __backend_agg_df_modules and type(df).__name__ == 'DataFrame') or isinstance(df, list):\n        __backend_agg_dfs.append(df)\n\ndisplay = __backend_agg_display_new\n\ndef __backend_agg_user_code_fn():\n    import base64\n    exec(base64.standard_b64decode(\"ZGYyID0gc2FsZXNfZGYuam9pbihtZW51X2RmLHNhbGVzX2RmLnByb2R1Y3RfaWQ9PW1lbnVfZGYucHJvZHVjdF9pZCwnaW5uZXInKS5ncm91cEJ5KG1lbnVfZGYucHJvZHVjdF9uYW1lKS5hZ2coRi5zdW0obWVudV9kZi5wcmljZSkuYWxpYXMoJ1RvdGFsIGFtb3VudCBzcGVudCcpKS5vcmRlckJ5KG1lbnVfZGYucHJvZHVjdF9uYW1lKQpkaXNwbGF5KGRmMik=\").decode())\n\ntry:\n    # run user code\n    __backend_agg_user_code_fn()\n\n    #reset display function\n    display = __backend_agg_display_orig\n\n    if len(__backend_agg_dfs) > 0:\n        # create a temp view\n        if type(__backend_agg_dfs[0]).__module__ == \"databricks.koalas.frame\":\n            # koalas dataframe\n            __backend_agg_dfs[0].to_spark().createOrReplaceTempView(\"DatabricksView707b2e7\")\n        elif type(__backend_agg_dfs[0]).__module__ == \"pandas.core.frame\" or isinstance(__backend_agg_dfs[0], list):\n            # pandas dataframe\n            spark.createDataFrame(__backend_agg_dfs[0]).createOrReplaceTempView(\"DatabricksView707b2e7\")\n        else:\n            __backend_agg_dfs[0].createOrReplaceTempView(\"DatabricksView707b2e7\")\n        #run backend agg\n        display(spark.sql(\"\"\"WITH q AS (select * from DatabricksView707b2e7) SELECT `product_name`,SUM(`Total amount spent`) `column_7dfee5cf7` FROM q GROUP BY `product_name`\"\"\"))\n    else:\n        displayHTML(\"dataframe no longer exists. If you're using dataframe.display(), use display(dataframe) instead.\")\n\n\nfinally:\n    spark.sql(\"drop view if exists DatabricksView707b2e7\")\n    display = __backend_agg_display_orig\n    del __backend_agg_display_new\n    del __backend_agg_display_orig\n    del __backend_agg_dfs\n    del __backend_agg_user_code_fn\n\n",
       "commandTitle": "Visualization 1",
       "commandType": "auto",
       "commandVersion": 0,
       "commentThread": [],
       "commentsVisible": false,
       "contentSha256Hex": null,
       "customPlotOptions": {
        "redashChart": [
         {
          "key": "type",
          "value": "CHART"
         },
         {
          "key": "options",
          "value": {
           "alignYAxesAtZero": true,
           "coefficient": 1,
           "columnConfigurationMap": {
            "x": {
             "column": "product_name",
             "id": "column_7dfee5cf6"
            },
            "y": [
             {
              "column": "Total amount spent",
              "id": "column_7dfee5cf7",
              "transform": "SUM"
             }
            ]
           },
           "dateTimeFormat": "DD/MM/YYYY HH:mm",
           "direction": {
            "type": "counterclockwise"
           },
           "error_y": {
            "type": "data",
            "visible": true
           },
           "globalSeriesType": "column",
           "isAggregationOn": true,
           "legend": {
            "traceorder": "normal"
           },
           "missingValuesAsZero": true,
           "numberFormat": "0,0.[00000]",
           "percentFormat": "0[.]00%",
           "series": {
            "error_y": {
             "type": "data",
             "visible": true
            },
            "stacking": null
           },
           "seriesOptions": {
            "column_7dfee5cf7": {
             "name": "Total amount spent",
             "yAxis": 0
            }
           },
           "showDataLabels": true,
           "sizemode": "diameter",
           "sortX": true,
           "sortY": true,
           "swappedAxes": true,
           "textFormat": "",
           "useAggregationsUi": true,
           "valuesOptions": {},
           "version": 2,
           "xAxis": {
            "labels": {
             "enabled": true
            },
            "type": "-"
           },
           "yAxis": [
            {
             "type": "-"
            },
            {
             "opposite": true,
             "type": "-"
            }
           ]
          }
         }
        ]
       },
       "datasetPreviewNameToCmdIdMap": {},
       "diffDeletes": [],
       "diffInserts": [],
       "displayType": "redashChart",
       "error": null,
       "errorDetails": null,
       "errorSummary": null,
       "errorTraceType": null,
       "finishTime": 0,
       "globalVars": {},
       "guid": "",
       "height": "auto",
       "hideCommandCode": false,
       "hideCommandResult": false,
       "iPythonMetadata": null,
       "inputWidgets": {},
       "isLockedInExamMode": false,
       "latestUser": "a user",
       "latestUserId": null,
       "listResultMetadata": null,
       "metadata": {},
       "nuid": "ddd80705-2d12-4d20-a15d-35c524b56894",
       "origId": 0,
       "parentHierarchy": [],
       "pivotAggregation": null,
       "pivotColumns": null,
       "position": 6.0,
       "resultDbfsErrorMessage": null,
       "resultDbfsStatus": "INLINED_IN_TREE",
       "results": null,
       "showCommandTitle": false,
       "startTime": 0,
       "state": "input",
       "streamStates": {},
       "subcommandOptions": {
        "queryPlan": {
         "groups": [
          {
           "column": "product_name",
           "type": "column"
          }
         ],
         "selects": [
          {
           "column": "product_name",
           "type": "column"
          },
          {
           "alias": "column_7dfee5cf7",
           "args": [
            {
             "column": "Total amount spent",
             "type": "column"
            }
           ],
           "function": "SUM",
           "type": "function"
          }
         ]
        }
       },
       "submitTime": 0,
       "subtype": "tableResultSubCmd.visualization",
       "tableResultIndex": 0,
       "tableResultSettingsMap": {},
       "useConsistentColors": false,
       "version": "CommandV1",
       "width": "auto",
       "workflows": [],
       "xColumns": null,
       "yColumns": null
      }
     },
     "output_type": "display_data"
    }
   ],
   "source": [
    "df2 = sales_df.join(menu_df,sales_df.product_id==menu_df.product_id,'inner').groupBy(menu_df.product_name).agg(F.sum(menu_df.price).alias('Total amount spent')).orderBy(menu_df.product_name)\n",
    "display(df2)"
   ]
  },
  {
   "cell_type": "code",
   "execution_count": 0,
   "metadata": {
    "application/vnd.databricks.v1+cell": {
     "cellMetadata": {
      "byteLimit": 2048000,
      "rowLimit": 10000
     },
     "inputWidgets": {},
     "nuid": "a2cfb0d2-13d9-40ac-bb8f-50a64fb47323",
     "showTitle": true,
     "tableResultSettingsMap": {},
     "title": "Total Amount of sales in each month"
    }
   },
   "outputs": [
    {
     "output_type": "display_data",
     "data": {
      "text/html": [
       "<style scoped>\n",
       "  .table-result-container {\n",
       "    max-height: 300px;\n",
       "    overflow: auto;\n",
       "  }\n",
       "  table, th, td {\n",
       "    border: 1px solid black;\n",
       "    border-collapse: collapse;\n",
       "  }\n",
       "  th, td {\n",
       "    padding: 5px;\n",
       "  }\n",
       "  th {\n",
       "    text-align: left;\n",
       "  }\n",
       "</style><div class='table-result-container'><table class='table-result'><thead style='background-color: white'><tr><th>Order_month</th><th>Total sales</th></tr></thead><tbody><tr><td>1</td><td>2960</td></tr><tr><td>2</td><td>2730</td></tr><tr><td>3</td><td>910</td></tr><tr><td>5</td><td>2960</td></tr><tr><td>6</td><td>2960</td></tr><tr><td>7</td><td>910</td></tr><tr><td>11</td><td>910</td></tr></tbody></table></div>"
      ]
     },
     "metadata": {
      "application/vnd.databricks.v1+output": {
       "addedWidgets": {},
       "aggData": [],
       "aggError": "",
       "aggOverflow": false,
       "aggSchema": [],
       "aggSeriesLimitReached": false,
       "aggType": "",
       "arguments": {},
       "columnCustomDisplayInfos": {},
       "data": [
        [
         1,
         2960
        ],
        [
         2,
         2730
        ],
        [
         3,
         910
        ],
        [
         5,
         2960
        ],
        [
         6,
         2960
        ],
        [
         7,
         910
        ],
        [
         11,
         910
        ]
       ],
       "datasetInfos": [],
       "dbfsResultPath": null,
       "isJsonSchema": true,
       "metadata": {},
       "overflow": false,
       "plotOptions": {
        "customPlotOptions": {},
        "displayType": "table",
        "pivotAggregation": null,
        "pivotColumns": null,
        "xColumns": null,
        "yColumns": null
       },
       "removedWidgets": [],
       "schema": [
        {
         "metadata": "{}",
         "name": "Order_month",
         "type": "\"integer\""
        },
        {
         "metadata": "{}",
         "name": "Total sales",
         "type": "\"long\""
        }
       ],
       "type": "table"
      }
     },
     "output_type": "display_data"
    },
    {
     "output_type": "display_data",
     "data": {
      "text/plain": [
       "Databricks visualization. Run in Databricks to view."
      ]
     },
     "metadata": {
      "application/vnd.databricks.v1.subcommand+json": {
       "baseErrorDetails": null,
       "bindings": {},
       "collapsed": false,
       "command": "%python\n__backend_agg_display_orig = display\n__backend_agg_dfs = []\ndef __backend_agg_display_new(df):\n    __backend_agg_df_modules = [\"pandas.core.frame\", \"databricks.koalas.frame\", \"pyspark.sql.dataframe\", \"pyspark.pandas.frame\", \"pyspark.sql.connect.dataframe\"]\n    if (type(df).__module__ in __backend_agg_df_modules and type(df).__name__ == 'DataFrame') or isinstance(df, list):\n        __backend_agg_dfs.append(df)\n\ndisplay = __backend_agg_display_new\n\ndef __backend_agg_user_code_fn():\n    import base64\n    exec(base64.standard_b64decode(\"ZnJvbSBweXNwYXJrLnNxbC5mdW5jdGlvbnMgaW1wb3J0IHllYXIsIG1vbnRoLCBxdWFydGVyCnNhbGVzX2RmID0gc2FsZXNfZGYud2l0aENvbHVtbigiT3JkZXJfbW9udGgiLG1vbnRoKHNhbGVzX2RmLm9yZGVyX2RhdGUpKQpkZjMgPSBzYWxlc19kZi5qb2luKG1lbnVfZGYsc2FsZXNfZGYucHJvZHVjdF9pZD09bWVudV9kZi5wcm9kdWN0X2lkLCdpbm5lcicpLmdyb3VwQnkoc2FsZXNfZGYuT3JkZXJfbW9udGgpLmFnZyhGLnN1bShtZW51X2RmLnByaWNlKS5hbGlhcygnVG90YWwgc2FsZXMnKSkub3JkZXJCeShzYWxlc19kZi5PcmRlcl9tb250aCkKZGlzcGxheShkZjMp\").decode())\n\ntry:\n    # run user code\n    __backend_agg_user_code_fn()\n\n    #reset display function\n    display = __backend_agg_display_orig\n\n    if len(__backend_agg_dfs) > 0:\n        # create a temp view\n        if type(__backend_agg_dfs[0]).__module__ == \"databricks.koalas.frame\":\n            # koalas dataframe\n            __backend_agg_dfs[0].to_spark().createOrReplaceTempView(\"DatabricksViewf8d46fb\")\n        elif type(__backend_agg_dfs[0]).__module__ == \"pandas.core.frame\" or isinstance(__backend_agg_dfs[0], list):\n            # pandas dataframe\n            spark.createDataFrame(__backend_agg_dfs[0]).createOrReplaceTempView(\"DatabricksViewf8d46fb\")\n        else:\n            __backend_agg_dfs[0].createOrReplaceTempView(\"DatabricksViewf8d46fb\")\n        #run backend agg\n        display(spark.sql(\"\"\"WITH q AS (select * from DatabricksViewf8d46fb) SELECT `Order_month`,SUM(`Total sales`) `column_7dfee5cf10` FROM q GROUP BY `Order_month`\"\"\"))\n    else:\n        displayHTML(\"dataframe no longer exists. If you're using dataframe.display(), use display(dataframe) instead.\")\n\n\nfinally:\n    spark.sql(\"drop view if exists DatabricksViewf8d46fb\")\n    display = __backend_agg_display_orig\n    del __backend_agg_display_new\n    del __backend_agg_display_orig\n    del __backend_agg_dfs\n    del __backend_agg_user_code_fn\n\n",
       "commandTitle": "Visualization 1",
       "commandType": "auto",
       "commandVersion": 0,
       "commentThread": [],
       "commentsVisible": false,
       "contentSha256Hex": null,
       "customPlotOptions": {
        "redashChart": [
         {
          "key": "type",
          "value": "CHART"
         },
         {
          "key": "options",
          "value": {
           "alignYAxesAtZero": true,
           "coefficient": 1,
           "columnConfigurationMap": {
            "x": {
             "column": "Order_month",
             "id": "column_7dfee5cf9"
            },
            "y": [
             {
              "column": "Total sales",
              "id": "column_7dfee5cf10",
              "transform": "SUM"
             }
            ]
           },
           "dateTimeFormat": "DD/MM/YYYY HH:mm",
           "direction": {
            "type": "counterclockwise"
           },
           "error_y": {
            "type": "data",
            "visible": true
           },
           "globalSeriesType": "column",
           "isAggregationOn": true,
           "legend": {
            "traceorder": "normal"
           },
           "missingValuesAsZero": true,
           "numberFormat": "0,0.[00000]",
           "percentFormat": "0[.]00%",
           "series": {
            "error_y": {
             "type": "data",
             "visible": true
            },
            "stacking": null
           },
           "seriesOptions": {
            "column_7dfee5cf10": {
             "name": "Total sales",
             "type": "column",
             "yAxis": 0
            }
           },
           "showDataLabels": true,
           "sizemode": "diameter",
           "sortX": true,
           "sortY": true,
           "swappedAxes": false,
           "textFormat": "",
           "useAggregationsUi": true,
           "valuesOptions": {},
           "version": 2,
           "xAxis": {
            "labels": {
             "enabled": true
            },
            "type": "-"
           },
           "yAxis": [
            {
             "type": "-"
            },
            {
             "opposite": true,
             "type": "-"
            }
           ]
          }
         }
        ]
       },
       "datasetPreviewNameToCmdIdMap": {},
       "diffDeletes": [],
       "diffInserts": [],
       "displayType": "redashChart",
       "error": null,
       "errorDetails": null,
       "errorSummary": null,
       "errorTraceType": null,
       "finishTime": 0,
       "globalVars": {},
       "guid": "",
       "height": "auto",
       "hideCommandCode": false,
       "hideCommandResult": false,
       "iPythonMetadata": null,
       "inputWidgets": {},
       "isLockedInExamMode": false,
       "latestUser": "a user",
       "latestUserId": null,
       "listResultMetadata": null,
       "metadata": {},
       "nuid": "1d490e40-517b-49a4-95d1-f0e9cbc457ad",
       "origId": 0,
       "parentHierarchy": [],
       "pivotAggregation": null,
       "pivotColumns": null,
       "position": 7.0,
       "resultDbfsErrorMessage": null,
       "resultDbfsStatus": "INLINED_IN_TREE",
       "results": null,
       "showCommandTitle": false,
       "startTime": 0,
       "state": "input",
       "streamStates": {},
       "subcommandOptions": {
        "queryPlan": {
         "groups": [
          {
           "column": "Order_month",
           "type": "column"
          }
         ],
         "selects": [
          {
           "column": "Order_month",
           "type": "column"
          },
          {
           "alias": "column_7dfee5cf10",
           "args": [
            {
             "column": "Total sales",
             "type": "column"
            }
           ],
           "function": "SUM",
           "type": "function"
          }
         ]
        }
       },
       "submitTime": 0,
       "subtype": "tableResultSubCmd.visualization",
       "tableResultIndex": 0,
       "tableResultSettingsMap": {},
       "useConsistentColors": false,
       "version": "CommandV1",
       "width": "auto",
       "workflows": [],
       "xColumns": null,
       "yColumns": null
      }
     },
     "output_type": "display_data"
    }
   ],
   "source": [
    "from pyspark.sql.functions import year, month, quarter\n",
    "sales_df = sales_df.withColumn(\"Order_month\",month(sales_df.order_date))\n",
    "df3 = sales_df.join(menu_df,sales_df.product_id==menu_df.product_id,'inner').groupBy(sales_df.Order_month).agg(F.sum(menu_df.price).alias('Total sales')).orderBy(sales_df.Order_month)\n",
    "display(df3)"
   ]
  },
  {
   "cell_type": "code",
   "execution_count": 0,
   "metadata": {
    "application/vnd.databricks.v1+cell": {
     "cellMetadata": {
      "byteLimit": 2048000,
      "rowLimit": 10000
     },
     "inputWidgets": {},
     "nuid": "15f9e0d3-b014-410c-9341-d7d7908767e0",
     "showTitle": true,
     "tableResultSettingsMap": {},
     "title": "Total Amount of sales in each Year"
    }
   },
   "outputs": [
    {
     "output_type": "display_data",
     "data": {
      "text/html": [
       "<style scoped>\n",
       "  .table-result-container {\n",
       "    max-height: 300px;\n",
       "    overflow: auto;\n",
       "  }\n",
       "  table, th, td {\n",
       "    border: 1px solid black;\n",
       "    border-collapse: collapse;\n",
       "  }\n",
       "  th, td {\n",
       "    padding: 5px;\n",
       "  }\n",
       "  th {\n",
       "    text-align: left;\n",
       "  }\n",
       "</style><div class='table-result-container'><table class='table-result'><thead style='background-color: white'><tr><th>Order_year</th><th>Total sales</th></tr></thead><tbody><tr><td>2022</td><td>4350</td></tr><tr><td>2023</td><td>9990</td></tr></tbody></table></div>"
      ]
     },
     "metadata": {
      "application/vnd.databricks.v1+output": {
       "addedWidgets": {},
       "aggData": [],
       "aggError": "",
       "aggOverflow": false,
       "aggSchema": [],
       "aggSeriesLimitReached": false,
       "aggType": "",
       "arguments": {},
       "columnCustomDisplayInfos": {},
       "data": [
        [
         2022,
         4350
        ],
        [
         2023,
         9990
        ]
       ],
       "datasetInfos": [],
       "dbfsResultPath": null,
       "isJsonSchema": true,
       "metadata": {},
       "overflow": false,
       "plotOptions": {
        "customPlotOptions": {},
        "displayType": "table",
        "pivotAggregation": null,
        "pivotColumns": null,
        "xColumns": null,
        "yColumns": null
       },
       "removedWidgets": [],
       "schema": [
        {
         "metadata": "{}",
         "name": "Order_year",
         "type": "\"integer\""
        },
        {
         "metadata": "{}",
         "name": "Total sales",
         "type": "\"long\""
        }
       ],
       "type": "table"
      }
     },
     "output_type": "display_data"
    },
    {
     "output_type": "display_data",
     "data": {
      "text/plain": [
       "Databricks visualization. Run in Databricks to view."
      ]
     },
     "metadata": {
      "application/vnd.databricks.v1.subcommand+json": {
       "baseErrorDetails": null,
       "bindings": {},
       "collapsed": false,
       "command": "%python\n__backend_agg_display_orig = display\n__backend_agg_dfs = []\ndef __backend_agg_display_new(df):\n    __backend_agg_df_modules = [\"pandas.core.frame\", \"databricks.koalas.frame\", \"pyspark.sql.dataframe\", \"pyspark.pandas.frame\", \"pyspark.sql.connect.dataframe\"]\n    if (type(df).__module__ in __backend_agg_df_modules and type(df).__name__ == 'DataFrame') or isinstance(df, list):\n        __backend_agg_dfs.append(df)\n\ndisplay = __backend_agg_display_new\n\ndef __backend_agg_user_code_fn():\n    import base64\n    exec(base64.standard_b64decode(\"c2FsZXNfZGYgPSBzYWxlc19kZi53aXRoQ29sdW1uKCJPcmRlcl95ZWFyIix5ZWFyKHNhbGVzX2RmLm9yZGVyX2RhdGUpKQpkZjQgPSBzYWxlc19kZi5qb2luKG1lbnVfZGYsc2FsZXNfZGYucHJvZHVjdF9pZD09bWVudV9kZi5wcm9kdWN0X2lkLCdpbm5lcicpLmdyb3VwQnkoc2FsZXNfZGYuT3JkZXJfeWVhcikuYWdnKEYuc3VtKG1lbnVfZGYucHJpY2UpLmFsaWFzKCdUb3RhbCBzYWxlcycpKS5vcmRlckJ5KHNhbGVzX2RmLk9yZGVyX3llYXIpCmRpc3BsYXkoZGY0KQ==\").decode())\n\ntry:\n    # run user code\n    __backend_agg_user_code_fn()\n\n    #reset display function\n    display = __backend_agg_display_orig\n\n    if len(__backend_agg_dfs) > 0:\n        # create a temp view\n        if type(__backend_agg_dfs[0]).__module__ == \"databricks.koalas.frame\":\n            # koalas dataframe\n            __backend_agg_dfs[0].to_spark().createOrReplaceTempView(\"DatabricksView0b480c5\")\n        elif type(__backend_agg_dfs[0]).__module__ == \"pandas.core.frame\" or isinstance(__backend_agg_dfs[0], list):\n            # pandas dataframe\n            spark.createDataFrame(__backend_agg_dfs[0]).createOrReplaceTempView(\"DatabricksView0b480c5\")\n        else:\n            __backend_agg_dfs[0].createOrReplaceTempView(\"DatabricksView0b480c5\")\n        #run backend agg\n        display(spark.sql(\"\"\"WITH q AS (select * from DatabricksView0b480c5) SELECT `Order_year`,SUM(`Total sales`) `column_7dfee5cf13` FROM q GROUP BY `Order_year`\"\"\"))\n    else:\n        displayHTML(\"dataframe no longer exists. If you're using dataframe.display(), use display(dataframe) instead.\")\n\n\nfinally:\n    spark.sql(\"drop view if exists DatabricksView0b480c5\")\n    display = __backend_agg_display_orig\n    del __backend_agg_display_new\n    del __backend_agg_display_orig\n    del __backend_agg_dfs\n    del __backend_agg_user_code_fn\n\n",
       "commandTitle": "Visualization 1",
       "commandType": "auto",
       "commandVersion": 0,
       "commentThread": [],
       "commentsVisible": false,
       "contentSha256Hex": null,
       "customPlotOptions": {
        "redashChart": [
         {
          "key": "type",
          "value": "CHART"
         },
         {
          "key": "options",
          "value": {
           "alignYAxesAtZero": true,
           "coefficient": 1,
           "columnConfigurationMap": {
            "x": {
             "column": "Order_year",
             "id": "column_7dfee5cf12"
            },
            "y": [
             {
              "column": "Total sales",
              "id": "column_7dfee5cf13",
              "transform": "SUM"
             }
            ]
           },
           "dateTimeFormat": "DD/MM/YYYY HH:mm",
           "direction": {
            "type": "counterclockwise"
           },
           "error_y": {
            "type": "data",
            "visible": true
           },
           "globalSeriesType": "line",
           "isAggregationOn": true,
           "legend": {
            "traceorder": "normal"
           },
           "missingValuesAsZero": true,
           "numberFormat": "0,0.[00000]",
           "percentFormat": "0[.]00%",
           "series": {
            "error_y": {
             "type": "data",
             "visible": true
            },
            "stacking": null
           },
           "seriesOptions": {
            "column_7dfee5cf13": {
             "name": "Total sales",
             "type": "line",
             "yAxis": 0
            }
           },
           "showDataLabels": true,
           "sizemode": "diameter",
           "sortX": true,
           "sortY": true,
           "swappedAxes": false,
           "textFormat": "",
           "useAggregationsUi": true,
           "valuesOptions": {},
           "version": 2,
           "xAxis": {
            "labels": {
             "enabled": true
            },
            "type": "-"
           },
           "yAxis": [
            {
             "type": "-"
            },
            {
             "opposite": true,
             "type": "-"
            }
           ]
          }
         }
        ]
       },
       "datasetPreviewNameToCmdIdMap": {},
       "diffDeletes": [],
       "diffInserts": [],
       "displayType": "redashChart",
       "error": null,
       "errorDetails": null,
       "errorSummary": null,
       "errorTraceType": null,
       "finishTime": 0,
       "globalVars": {},
       "guid": "",
       "height": "auto",
       "hideCommandCode": false,
       "hideCommandResult": false,
       "iPythonMetadata": null,
       "inputWidgets": {},
       "isLockedInExamMode": false,
       "latestUser": "a user",
       "latestUserId": null,
       "listResultMetadata": null,
       "metadata": {},
       "nuid": "e6323ac6-9461-4af4-ba81-06fac53c0c28",
       "origId": 0,
       "parentHierarchy": [],
       "pivotAggregation": null,
       "pivotColumns": null,
       "position": 8.0,
       "resultDbfsErrorMessage": null,
       "resultDbfsStatus": "INLINED_IN_TREE",
       "results": null,
       "showCommandTitle": false,
       "startTime": 0,
       "state": "input",
       "streamStates": {},
       "subcommandOptions": {
        "queryPlan": {
         "groups": [
          {
           "column": "Order_year",
           "type": "column"
          }
         ],
         "selects": [
          {
           "column": "Order_year",
           "type": "column"
          },
          {
           "alias": "column_7dfee5cf13",
           "args": [
            {
             "column": "Total sales",
             "type": "column"
            }
           ],
           "function": "SUM",
           "type": "function"
          }
         ]
        }
       },
       "submitTime": 0,
       "subtype": "tableResultSubCmd.visualization",
       "tableResultIndex": 0,
       "tableResultSettingsMap": {},
       "useConsistentColors": false,
       "version": "CommandV1",
       "width": "auto",
       "workflows": [],
       "xColumns": null,
       "yColumns": null
      }
     },
     "output_type": "display_data"
    }
   ],
   "source": [
    "sales_df = sales_df.withColumn(\"Order_year\",year(sales_df.order_date))\n",
    "df4 = sales_df.join(menu_df,sales_df.product_id==menu_df.product_id,'inner').groupBy(sales_df.Order_year).agg(F.sum(menu_df.price).alias('Total sales')).orderBy(sales_df.Order_year)\n",
    "display(df4)"
   ]
  },
  {
   "cell_type": "code",
   "execution_count": 0,
   "metadata": {
    "application/vnd.databricks.v1+cell": {
     "cellMetadata": {
      "byteLimit": 2048000,
      "rowLimit": 10000
     },
     "inputWidgets": {},
     "nuid": "648c6981-3784-4b4f-9c72-f27ec1ae236d",
     "showTitle": true,
     "tableResultSettingsMap": {},
     "title": "Total Amount of sales in every Quaterly"
    }
   },
   "outputs": [
    {
     "output_type": "display_data",
     "data": {
      "text/html": [
       "<style scoped>\n",
       "  .table-result-container {\n",
       "    max-height: 300px;\n",
       "    overflow: auto;\n",
       "  }\n",
       "  table, th, td {\n",
       "    border: 1px solid black;\n",
       "    border-collapse: collapse;\n",
       "  }\n",
       "  th, td {\n",
       "    padding: 5px;\n",
       "  }\n",
       "  th {\n",
       "    text-align: left;\n",
       "  }\n",
       "</style><div class='table-result-container'><table class='table-result'><thead style='background-color: white'><tr><th>Order_quarter</th><th>Total sales</th></tr></thead><tbody><tr><td>1</td><td>6600</td></tr><tr><td>2</td><td>5920</td></tr><tr><td>3</td><td>910</td></tr><tr><td>4</td><td>910</td></tr></tbody></table></div>"
      ]
     },
     "metadata": {
      "application/vnd.databricks.v1+output": {
       "addedWidgets": {},
       "aggData": [],
       "aggError": "",
       "aggOverflow": false,
       "aggSchema": [],
       "aggSeriesLimitReached": false,
       "aggType": "",
       "arguments": {},
       "columnCustomDisplayInfos": {},
       "data": [
        [
         1,
         6600
        ],
        [
         2,
         5920
        ],
        [
         3,
         910
        ],
        [
         4,
         910
        ]
       ],
       "datasetInfos": [],
       "dbfsResultPath": null,
       "isJsonSchema": true,
       "metadata": {},
       "overflow": false,
       "plotOptions": {
        "customPlotOptions": {},
        "displayType": "table",
        "pivotAggregation": null,
        "pivotColumns": null,
        "xColumns": null,
        "yColumns": null
       },
       "removedWidgets": [],
       "schema": [
        {
         "metadata": "{}",
         "name": "Order_quarter",
         "type": "\"integer\""
        },
        {
         "metadata": "{}",
         "name": "Total sales",
         "type": "\"long\""
        }
       ],
       "type": "table"
      }
     },
     "output_type": "display_data"
    },
    {
     "output_type": "display_data",
     "data": {
      "text/plain": [
       "Databricks visualization. Run in Databricks to view."
      ]
     },
     "metadata": {
      "application/vnd.databricks.v1.subcommand+json": {
       "baseErrorDetails": null,
       "bindings": {},
       "collapsed": false,
       "command": "%python\n__backend_agg_display_orig = display\n__backend_agg_dfs = []\ndef __backend_agg_display_new(df):\n    __backend_agg_df_modules = [\"pandas.core.frame\", \"databricks.koalas.frame\", \"pyspark.sql.dataframe\", \"pyspark.pandas.frame\", \"pyspark.sql.connect.dataframe\"]\n    if (type(df).__module__ in __backend_agg_df_modules and type(df).__name__ == 'DataFrame') or isinstance(df, list):\n        __backend_agg_dfs.append(df)\n\ndisplay = __backend_agg_display_new\n\ndef __backend_agg_user_code_fn():\n    import base64\n    exec(base64.standard_b64decode(\"c2FsZXNfZGYgPSBzYWxlc19kZi53aXRoQ29sdW1uKCJPcmRlcl9xdWFydGVyIixxdWFydGVyKHNhbGVzX2RmLm9yZGVyX2RhdGUpKQpkZjUgPSBzYWxlc19kZi5qb2luKG1lbnVfZGYsc2FsZXNfZGYucHJvZHVjdF9pZD09bWVudV9kZi5wcm9kdWN0X2lkLCdpbm5lcicpLmdyb3VwQnkoc2FsZXNfZGYuT3JkZXJfcXVhcnRlcikuYWdnKEYuc3VtKG1lbnVfZGYucHJpY2UpLmFsaWFzKCdUb3RhbCBzYWxlcycpKS5vcmRlckJ5KHNhbGVzX2RmLk9yZGVyX3F1YXJ0ZXIpCmRpc3BsYXkoZGY1KQ==\").decode())\n\ntry:\n    # run user code\n    __backend_agg_user_code_fn()\n\n    #reset display function\n    display = __backend_agg_display_orig\n\n    if len(__backend_agg_dfs) > 0:\n        # create a temp view\n        if type(__backend_agg_dfs[0]).__module__ == \"databricks.koalas.frame\":\n            # koalas dataframe\n            __backend_agg_dfs[0].to_spark().createOrReplaceTempView(\"DatabricksView53a8c52\")\n        elif type(__backend_agg_dfs[0]).__module__ == \"pandas.core.frame\" or isinstance(__backend_agg_dfs[0], list):\n            # pandas dataframe\n            spark.createDataFrame(__backend_agg_dfs[0]).createOrReplaceTempView(\"DatabricksView53a8c52\")\n        else:\n            __backend_agg_dfs[0].createOrReplaceTempView(\"DatabricksView53a8c52\")\n        #run backend agg\n        display(spark.sql(\"\"\"WITH q AS (select * from DatabricksView53a8c52) SELECT `Order_quarter`,SUM(`Total sales`) `column_7dfee5cf16` FROM q GROUP BY `Order_quarter`\"\"\"))\n    else:\n        displayHTML(\"dataframe no longer exists. If you're using dataframe.display(), use display(dataframe) instead.\")\n\n\nfinally:\n    spark.sql(\"drop view if exists DatabricksView53a8c52\")\n    display = __backend_agg_display_orig\n    del __backend_agg_display_new\n    del __backend_agg_display_orig\n    del __backend_agg_dfs\n    del __backend_agg_user_code_fn\n\n",
       "commandTitle": "Visualization 1",
       "commandType": "auto",
       "commandVersion": 0,
       "commentThread": [],
       "commentsVisible": false,
       "contentSha256Hex": null,
       "customPlotOptions": {
        "redashChart": [
         {
          "key": "type",
          "value": "CHART"
         },
         {
          "key": "options",
          "value": {
           "alignYAxesAtZero": true,
           "coefficient": 1,
           "columnConfigurationMap": {
            "x": {
             "column": "Order_quarter",
             "id": "column_7dfee5cf15"
            },
            "y": [
             {
              "column": "Total sales",
              "id": "column_7dfee5cf16",
              "transform": "SUM"
             }
            ]
           },
           "dateTimeFormat": "DD/MM/YYYY HH:mm",
           "direction": {
            "type": "counterclockwise"
           },
           "error_y": {
            "type": "data",
            "visible": true
           },
           "globalSeriesType": "pie",
           "isAggregationOn": true,
           "legend": {
            "traceorder": "normal"
           },
           "missingValuesAsZero": true,
           "numberFormat": "0,0.[00000]",
           "percentFormat": "0[.]00%",
           "series": {
            "error_y": {
             "type": "data",
             "visible": true
            },
            "stacking": null
           },
           "seriesOptions": {
            "column_7dfee5cf16": {
             "name": "Total sales",
             "type": "pie",
             "yAxis": 0
            }
           },
           "showDataLabels": true,
           "sizemode": "diameter",
           "sortX": true,
           "sortY": true,
           "swappedAxes": false,
           "textFormat": "",
           "useAggregationsUi": true,
           "valuesOptions": {},
           "version": 2,
           "xAxis": {
            "labels": {
             "enabled": true
            },
            "type": "-"
           },
           "yAxis": [
            {
             "type": "-"
            },
            {
             "opposite": true,
             "type": "-"
            }
           ]
          }
         }
        ]
       },
       "datasetPreviewNameToCmdIdMap": {},
       "diffDeletes": [],
       "diffInserts": [],
       "displayType": "redashChart",
       "error": null,
       "errorDetails": null,
       "errorSummary": null,
       "errorTraceType": null,
       "finishTime": 0,
       "globalVars": {},
       "guid": "",
       "height": "auto",
       "hideCommandCode": false,
       "hideCommandResult": false,
       "iPythonMetadata": null,
       "inputWidgets": {},
       "isLockedInExamMode": false,
       "latestUser": "a user",
       "latestUserId": null,
       "listResultMetadata": null,
       "metadata": {},
       "nuid": "a54374ca-2233-4f3b-9a76-a6178ec91ff3",
       "origId": 0,
       "parentHierarchy": [],
       "pivotAggregation": null,
       "pivotColumns": null,
       "position": 9.0,
       "resultDbfsErrorMessage": null,
       "resultDbfsStatus": "INLINED_IN_TREE",
       "results": null,
       "showCommandTitle": false,
       "startTime": 0,
       "state": "input",
       "streamStates": {},
       "subcommandOptions": {
        "queryPlan": {
         "groups": [
          {
           "column": "Order_quarter",
           "type": "column"
          }
         ],
         "selects": [
          {
           "column": "Order_quarter",
           "type": "column"
          },
          {
           "alias": "column_7dfee5cf16",
           "args": [
            {
             "column": "Total sales",
             "type": "column"
            }
           ],
           "function": "SUM",
           "type": "function"
          }
         ]
        }
       },
       "submitTime": 0,
       "subtype": "tableResultSubCmd.visualization",
       "tableResultIndex": 0,
       "tableResultSettingsMap": {},
       "useConsistentColors": false,
       "version": "CommandV1",
       "width": "auto",
       "workflows": [],
       "xColumns": null,
       "yColumns": null
      }
     },
     "output_type": "display_data"
    }
   ],
   "source": [
    "sales_df = sales_df.withColumn(\"Order_quarter\",quarter(sales_df.order_date))\n",
    "df5 = sales_df.join(menu_df,sales_df.product_id==menu_df.product_id,'inner').groupBy(sales_df.Order_quarter).agg(F.sum(menu_df.price).alias('Total sales')).orderBy(sales_df.Order_quarter)\n",
    "display(df5)"
   ]
  },
  {
   "cell_type": "code",
   "execution_count": 0,
   "metadata": {
    "application/vnd.databricks.v1+cell": {
     "cellMetadata": {
      "byteLimit": 2048000,
      "rowLimit": 10000
     },
     "inputWidgets": {},
     "nuid": "89169eed-6dc4-42ab-8425-1133501994f4",
     "showTitle": true,
     "tableResultSettingsMap": {},
     "title": "Total number of order by each category"
    }
   },
   "outputs": [
    {
     "output_type": "display_data",
     "data": {
      "text/html": [
       "<style scoped>\n",
       "  .table-result-container {\n",
       "    max-height: 300px;\n",
       "    overflow: auto;\n",
       "  }\n",
       "  table, th, td {\n",
       "    border: 1px solid black;\n",
       "    border-collapse: collapse;\n",
       "  }\n",
       "  th, td {\n",
       "    padding: 5px;\n",
       "  }\n",
       "  th {\n",
       "    text-align: left;\n",
       "  }\n",
       "</style><div class='table-result-container'><table class='table-result'><thead style='background-color: white'><tr><th>product_name</th><th>Total sales</th></tr></thead><tbody><tr><td>sandwich</td><td>48</td></tr><tr><td>Chowmin</td><td>24</td></tr><tr><td>PIZZA</td><td>21</td></tr><tr><td>Dosa</td><td>12</td></tr><tr><td>Biryani</td><td>6</td></tr><tr><td>Pasta</td><td>6</td></tr></tbody></table></div>"
      ]
     },
     "metadata": {
      "application/vnd.databricks.v1+output": {
       "addedWidgets": {},
       "aggData": [],
       "aggError": "",
       "aggOverflow": false,
       "aggSchema": [],
       "aggSeriesLimitReached": false,
       "aggType": "",
       "arguments": {},
       "columnCustomDisplayInfos": {},
       "data": [
        [
         "sandwich",
         48
        ],
        [
         "Chowmin",
         24
        ],
        [
         "PIZZA",
         21
        ],
        [
         "Dosa",
         12
        ],
        [
         "Biryani",
         6
        ],
        [
         "Pasta",
         6
        ]
       ],
       "datasetInfos": [],
       "dbfsResultPath": null,
       "isJsonSchema": true,
       "metadata": {},
       "overflow": false,
       "plotOptions": {
        "customPlotOptions": {},
        "displayType": "table",
        "pivotAggregation": null,
        "pivotColumns": null,
        "xColumns": null,
        "yColumns": null
       },
       "removedWidgets": [],
       "schema": [
        {
         "metadata": "{}",
         "name": "product_name",
         "type": "\"string\""
        },
        {
         "metadata": "{}",
         "name": "Total sales",
         "type": "\"long\""
        }
       ],
       "type": "table"
      }
     },
     "output_type": "display_data"
    },
    {
     "output_type": "display_data",
     "data": {
      "text/plain": [
       "Databricks visualization. Run in Databricks to view."
      ]
     },
     "metadata": {
      "application/vnd.databricks.v1.subcommand+json": {
       "baseErrorDetails": null,
       "bindings": {},
       "collapsed": false,
       "command": "df6 = sales_df.join(menu_df,sales_df.product_id==menu_df.product_id,'inner').groupBy(menu_df.product_name).agg(F.count(menu_df.product_name).alias('Total sales')).orderBy('Total sales',ascending=False)\ndisplay(df6)",
       "commandTitle": "Visualization 1",
       "commandType": "auto",
       "commandVersion": 0,
       "commentThread": [],
       "commentsVisible": false,
       "contentSha256Hex": null,
       "customPlotOptions": {
        "redashChart": [
         {
          "key": "type",
          "value": "FUNNEL"
         },
         {
          "key": "options",
          "value": {
           "autoSort": true,
           "itemsLimit": 100,
           "numberFormat": "0,0.[00]",
           "percentFormat": "0[.]00%",
           "percentValuesRange": {
            "max": 1000,
            "min": 0.01
           },
           "sortKeyCol": {
            "colName": "Total sales",
            "reverse": true
           },
           "stepCol": {
            "colName": "product_name",
            "displayAs": "Steps"
           },
           "valueCol": {
            "colName": "Total sales",
            "displayAs": "Value"
           }
          }
         }
        ]
       },
       "datasetPreviewNameToCmdIdMap": {},
       "diffDeletes": [],
       "diffInserts": [],
       "displayType": "redashChart",
       "error": null,
       "errorDetails": null,
       "errorSummary": null,
       "errorTraceType": null,
       "finishTime": 0,
       "globalVars": {},
       "guid": "",
       "height": "auto",
       "hideCommandCode": false,
       "hideCommandResult": false,
       "iPythonMetadata": null,
       "inputWidgets": {},
       "isLockedInExamMode": false,
       "latestUser": "a user",
       "latestUserId": null,
       "listResultMetadata": null,
       "metadata": {},
       "nuid": "9b92593a-e738-448f-9eb0-c7873a055728",
       "origId": 0,
       "parentHierarchy": [],
       "pivotAggregation": null,
       "pivotColumns": null,
       "position": 10.0,
       "resultDbfsErrorMessage": null,
       "resultDbfsStatus": "INLINED_IN_TREE",
       "results": null,
       "showCommandTitle": false,
       "startTime": 0,
       "state": "input",
       "streamStates": {},
       "subcommandOptions": {},
       "submitTime": 0,
       "subtype": "tableResultSubCmd.visualization",
       "tableResultIndex": 0,
       "tableResultSettingsMap": {},
       "useConsistentColors": false,
       "version": "CommandV1",
       "width": "auto",
       "workflows": [],
       "xColumns": null,
       "yColumns": null
      }
     },
     "output_type": "display_data"
    }
   ],
   "source": [
    "df6 = sales_df.join(menu_df,sales_df.product_id==menu_df.product_id,'inner').groupBy(menu_df.product_name).agg(F.count(menu_df.product_name).alias('Total sales')).orderBy('Total sales',ascending=False)\n",
    "display(df6)"
   ]
  },
  {
   "cell_type": "code",
   "execution_count": 0,
   "metadata": {
    "application/vnd.databricks.v1+cell": {
     "cellMetadata": {
      "byteLimit": 2048000,
      "rowLimit": 10000
     },
     "inputWidgets": {},
     "nuid": "7ce5047c-547e-4d2a-b08b-8b6a7f604855",
     "showTitle": true,
     "tableResultSettingsMap": {},
     "title": "Top 5 ordered items"
    }
   },
   "outputs": [
    {
     "output_type": "display_data",
     "data": {
      "text/html": [
       "<style scoped>\n",
       "  .table-result-container {\n",
       "    max-height: 300px;\n",
       "    overflow: auto;\n",
       "  }\n",
       "  table, th, td {\n",
       "    border: 1px solid black;\n",
       "    border-collapse: collapse;\n",
       "  }\n",
       "  th, td {\n",
       "    padding: 5px;\n",
       "  }\n",
       "  th {\n",
       "    text-align: left;\n",
       "  }\n",
       "</style><div class='table-result-container'><table class='table-result'><thead style='background-color: white'><tr><th>product_name</th><th>Total sales</th></tr></thead><tbody><tr><td>sandwich</td><td>48</td></tr><tr><td>Chowmin</td><td>24</td></tr><tr><td>PIZZA</td><td>21</td></tr><tr><td>Dosa</td><td>12</td></tr><tr><td>Biryani</td><td>6</td></tr></tbody></table></div>"
      ]
     },
     "metadata": {
      "application/vnd.databricks.v1+output": {
       "addedWidgets": {},
       "aggData": [],
       "aggError": "",
       "aggOverflow": false,
       "aggSchema": [],
       "aggSeriesLimitReached": false,
       "aggType": "",
       "arguments": {},
       "columnCustomDisplayInfos": {},
       "data": [
        [
         "sandwich",
         48
        ],
        [
         "Chowmin",
         24
        ],
        [
         "PIZZA",
         21
        ],
        [
         "Dosa",
         12
        ],
        [
         "Biryani",
         6
        ]
       ],
       "datasetInfos": [],
       "dbfsResultPath": null,
       "isJsonSchema": true,
       "metadata": {},
       "overflow": false,
       "plotOptions": {
        "customPlotOptions": {},
        "displayType": "table",
        "pivotAggregation": null,
        "pivotColumns": null,
        "xColumns": null,
        "yColumns": null
       },
       "removedWidgets": [],
       "schema": [
        {
         "metadata": "{}",
         "name": "product_name",
         "type": "\"string\""
        },
        {
         "metadata": "{}",
         "name": "Total sales",
         "type": "\"long\""
        }
       ],
       "type": "table"
      }
     },
     "output_type": "display_data"
    }
   ],
   "source": [
    "df7 = sales_df.join(menu_df,sales_df.product_id==menu_df.product_id,'inner').groupBy(menu_df.product_name).agg(F.count(menu_df.product_name).alias('Total sales')).orderBy('Total sales',ascending=False).limit(5)\n",
    "display(df7)"
   ]
  },
  {
   "cell_type": "code",
   "execution_count": 0,
   "metadata": {
    "application/vnd.databricks.v1+cell": {
     "cellMetadata": {
      "byteLimit": 2048000,
      "rowLimit": 10000
     },
     "inputWidgets": {},
     "nuid": "6ab65e2d-da02-47ef-8b08-4c48f68bf0fa",
     "showTitle": true,
     "tableResultSettingsMap": {},
     "title": "Top ordered items"
    }
   },
   "outputs": [
    {
     "output_type": "display_data",
     "data": {
      "text/html": [
       "<style scoped>\n",
       "  .table-result-container {\n",
       "    max-height: 300px;\n",
       "    overflow: auto;\n",
       "  }\n",
       "  table, th, td {\n",
       "    border: 1px solid black;\n",
       "    border-collapse: collapse;\n",
       "  }\n",
       "  th, td {\n",
       "    padding: 5px;\n",
       "  }\n",
       "  th {\n",
       "    text-align: left;\n",
       "  }\n",
       "</style><div class='table-result-container'><table class='table-result'><thead style='background-color: white'><tr><th>product_name</th><th>Total sales</th></tr></thead><tbody><tr><td>sandwich</td><td>48</td></tr></tbody></table></div>"
      ]
     },
     "metadata": {
      "application/vnd.databricks.v1+output": {
       "addedWidgets": {},
       "aggData": [],
       "aggError": "",
       "aggOverflow": false,
       "aggSchema": [],
       "aggSeriesLimitReached": false,
       "aggType": "",
       "arguments": {},
       "columnCustomDisplayInfos": {},
       "data": [
        [
         "sandwich",
         48
        ]
       ],
       "datasetInfos": [],
       "dbfsResultPath": null,
       "isJsonSchema": true,
       "metadata": {},
       "overflow": false,
       "plotOptions": {
        "customPlotOptions": {},
        "displayType": "table",
        "pivotAggregation": null,
        "pivotColumns": null,
        "xColumns": null,
        "yColumns": null
       },
       "removedWidgets": [],
       "schema": [
        {
         "metadata": "{}",
         "name": "product_name",
         "type": "\"string\""
        },
        {
         "metadata": "{}",
         "name": "Total sales",
         "type": "\"long\""
        }
       ],
       "type": "table"
      }
     },
     "output_type": "display_data"
    },
    {
     "output_type": "display_data",
     "data": {
      "text/plain": [
       "Databricks visualization. Run in Databricks to view."
      ]
     },
     "metadata": {
      "application/vnd.databricks.v1.subcommand+json": {
       "baseErrorDetails": null,
       "bindings": {},
       "collapsed": false,
       "command": "df8 = sales_df.join(menu_df,sales_df.product_id==menu_df.product_id,'inner').groupBy(menu_df.product_name).agg(F.count(menu_df.product_name).alias('Total sales')).orderBy('Total sales',ascending=False).limit(1)\ndisplay(df8)",
       "commandTitle": "Visualization 1",
       "commandType": "auto",
       "commandVersion": 0,
       "commentThread": [],
       "commentsVisible": false,
       "contentSha256Hex": null,
       "customPlotOptions": {
        "redashChart": [
         {
          "key": "type",
          "value": "COUNTER"
         },
         {
          "key": "options",
          "value": {
           "counterColName": "Total sales",
           "counterLabel": "",
           "rowNumber": 1,
           "stringDecChar": ".",
           "stringDecimal": 0,
           "stringThouSep": ",",
           "targetColName": "product_name",
           "targetRowNumber": 1,
           "tooltipFormat": "0,0.000"
          }
         }
        ]
       },
       "datasetPreviewNameToCmdIdMap": {},
       "diffDeletes": [],
       "diffInserts": [],
       "displayType": "redashChart",
       "error": null,
       "errorDetails": null,
       "errorSummary": null,
       "errorTraceType": null,
       "finishTime": 0,
       "globalVars": {},
       "guid": "",
       "height": "auto",
       "hideCommandCode": false,
       "hideCommandResult": false,
       "iPythonMetadata": null,
       "inputWidgets": {},
       "isLockedInExamMode": false,
       "latestUser": "a user",
       "latestUserId": null,
       "listResultMetadata": null,
       "metadata": {},
       "nuid": "5945ae58-a6e3-4fbc-915f-88ef073df30c",
       "origId": 0,
       "parentHierarchy": [],
       "pivotAggregation": null,
       "pivotColumns": null,
       "position": 12.0,
       "resultDbfsErrorMessage": null,
       "resultDbfsStatus": "INLINED_IN_TREE",
       "results": null,
       "showCommandTitle": false,
       "startTime": 0,
       "state": "input",
       "streamStates": {},
       "subcommandOptions": {},
       "submitTime": 0,
       "subtype": "tableResultSubCmd.visualization",
       "tableResultIndex": 0,
       "tableResultSettingsMap": {},
       "useConsistentColors": false,
       "version": "CommandV1",
       "width": "auto",
       "workflows": [],
       "xColumns": null,
       "yColumns": null
      }
     },
     "output_type": "display_data"
    }
   ],
   "source": [
    "df8 = sales_df.join(menu_df,sales_df.product_id==menu_df.product_id,'inner').groupBy(menu_df.product_name).agg(F.count(menu_df.product_name).alias('Total sales')).orderBy('Total sales',ascending=False).limit(1)\n",
    "display(df8)"
   ]
  },
  {
   "cell_type": "code",
   "execution_count": 0,
   "metadata": {
    "application/vnd.databricks.v1+cell": {
     "cellMetadata": {
      "byteLimit": 2048000,
      "rowLimit": 10000
     },
     "inputWidgets": {},
     "nuid": "349f0ac3-2179-4b9b-9ecb-8eb39511382a",
     "showTitle": true,
     "tableResultSettingsMap": {},
     "title": "Frequecy of customer visited"
    }
   },
   "outputs": [
    {
     "output_type": "display_data",
     "data": {
      "text/html": [
       "<style scoped>\n",
       "  .table-result-container {\n",
       "    max-height: 300px;\n",
       "    overflow: auto;\n",
       "  }\n",
       "  table, th, td {\n",
       "    border: 1px solid black;\n",
       "    border-collapse: collapse;\n",
       "  }\n",
       "  th, td {\n",
       "    padding: 5px;\n",
       "  }\n",
       "  th {\n",
       "    text-align: left;\n",
       "  }\n",
       "</style><div class='table-result-container'><table class='table-result'><thead style='background-color: white'><tr><th>customer_id</th><th>No. of times visited restaurant</th></tr></thead><tbody><tr><td>A</td><td>6</td></tr><tr><td>B</td><td>6</td></tr><tr><td>C</td><td>3</td></tr><tr><td>D</td><td>1</td></tr><tr><td>E</td><td>5</td></tr></tbody></table></div>"
      ]
     },
     "metadata": {
      "application/vnd.databricks.v1+output": {
       "addedWidgets": {},
       "aggData": [],
       "aggError": "",
       "aggOverflow": false,
       "aggSchema": [],
       "aggSeriesLimitReached": false,
       "aggType": "",
       "arguments": {},
       "columnCustomDisplayInfos": {},
       "data": [
        [
         "A",
         6
        ],
        [
         "B",
         6
        ],
        [
         "C",
         3
        ],
        [
         "D",
         1
        ],
        [
         "E",
         5
        ]
       ],
       "datasetInfos": [],
       "dbfsResultPath": null,
       "isJsonSchema": true,
       "metadata": {},
       "overflow": false,
       "plotOptions": {
        "customPlotOptions": {},
        "displayType": "table",
        "pivotAggregation": null,
        "pivotColumns": null,
        "xColumns": null,
        "yColumns": null
       },
       "removedWidgets": [],
       "schema": [
        {
         "metadata": "{}",
         "name": "customer_id",
         "type": "\"string\""
        },
        {
         "metadata": "{}",
         "name": "No. of times visited restaurant",
         "type": "\"long\""
        }
       ],
       "type": "table"
      }
     },
     "output_type": "display_data"
    },
    {
     "output_type": "display_data",
     "data": {
      "text/plain": [
       "Databricks visualization. Run in Databricks to view."
      ]
     },
     "metadata": {
      "application/vnd.databricks.v1.subcommand+json": {
       "baseErrorDetails": null,
       "bindings": {},
       "collapsed": false,
       "command": "%python\n__backend_agg_display_orig = display\n__backend_agg_dfs = []\ndef __backend_agg_display_new(df):\n    __backend_agg_df_modules = [\"pandas.core.frame\", \"databricks.koalas.frame\", \"pyspark.sql.dataframe\", \"pyspark.pandas.frame\", \"pyspark.sql.connect.dataframe\"]\n    if (type(df).__module__ in __backend_agg_df_modules and type(df).__name__ == 'DataFrame') or isinstance(df, list):\n        __backend_agg_dfs.append(df)\n\ndisplay = __backend_agg_display_new\n\ndef __backend_agg_user_code_fn():\n    import base64\n    exec(base64.standard_b64decode(\"ZGY5ID0gc2FsZXNfZGYuZmlsdGVyKHNhbGVzX2RmLnNvdXJjZV9vcmRlcj09J1Jlc3RhdXJhbnQnKS5ncm91cEJ5KHNhbGVzX2RmLmN1c3RvbWVyX2lkKS5hZ2coRi5jb3VudERpc3RpbmN0KHNhbGVzX2RmLm9yZGVyX2RhdGUpLmFsaWFzKCdOby4gb2YgdGltZXMgdmlzaXRlZCByZXN0YXVyYW50JykpLm9yZGVyQnkoc2FsZXNfZGYuY3VzdG9tZXJfaWQpCmRpc3BsYXkoZGY5KQ==\").decode())\n\ntry:\n    # run user code\n    __backend_agg_user_code_fn()\n\n    #reset display function\n    display = __backend_agg_display_orig\n\n    if len(__backend_agg_dfs) > 0:\n        # create a temp view\n        if type(__backend_agg_dfs[0]).__module__ == \"databricks.koalas.frame\":\n            # koalas dataframe\n            __backend_agg_dfs[0].to_spark().createOrReplaceTempView(\"DatabricksViewdd9adbe\")\n        elif type(__backend_agg_dfs[0]).__module__ == \"pandas.core.frame\" or isinstance(__backend_agg_dfs[0], list):\n            # pandas dataframe\n            spark.createDataFrame(__backend_agg_dfs[0]).createOrReplaceTempView(\"DatabricksViewdd9adbe\")\n        else:\n            __backend_agg_dfs[0].createOrReplaceTempView(\"DatabricksViewdd9adbe\")\n        #run backend agg\n        display(spark.sql(\"\"\"WITH q AS (select * from DatabricksViewdd9adbe) SELECT `customer_id`,SUM(`No. of times visited restaurant`) `column_7dfee5cf25` FROM q GROUP BY `customer_id`\"\"\"))\n    else:\n        displayHTML(\"dataframe no longer exists. If you're using dataframe.display(), use display(dataframe) instead.\")\n\n\nfinally:\n    spark.sql(\"drop view if exists DatabricksViewdd9adbe\")\n    display = __backend_agg_display_orig\n    del __backend_agg_display_new\n    del __backend_agg_display_orig\n    del __backend_agg_dfs\n    del __backend_agg_user_code_fn\n\n",
       "commandTitle": "Visualization 1",
       "commandType": "auto",
       "commandVersion": 0,
       "commentThread": [],
       "commentsVisible": false,
       "contentSha256Hex": null,
       "customPlotOptions": {
        "redashChart": [
         {
          "key": "type",
          "value": "CHART"
         },
         {
          "key": "options",
          "value": {
           "alignYAxesAtZero": true,
           "coefficient": 1,
           "columnConfigurationMap": {
            "x": {
             "column": "customer_id",
             "id": "column_7dfee5cf24"
            },
            "y": [
             {
              "column": "No. of times visited restaurant",
              "id": "column_7dfee5cf25",
              "transform": "SUM"
             }
            ]
           },
           "dateTimeFormat": "DD/MM/YYYY HH:mm",
           "direction": {
            "type": "counterclockwise"
           },
           "error_y": {
            "type": "data",
            "visible": true
           },
           "globalSeriesType": "column",
           "isAggregationOn": true,
           "legend": {
            "traceorder": "normal"
           },
           "missingValuesAsZero": true,
           "numberFormat": "0,0.[00000]",
           "percentFormat": "0[.]00%",
           "series": {
            "error_y": {
             "type": "data",
             "visible": true
            },
            "stacking": null
           },
           "seriesOptions": {
            "column_7dfee5cf25": {
             "color": "#494949",
             "name": "No. of times visited restaurant",
             "yAxis": 0
            }
           },
           "showDataLabels": true,
           "sizemode": "diameter",
           "sortX": true,
           "sortY": true,
           "swappedAxes": true,
           "textFormat": "",
           "useAggregationsUi": true,
           "valuesOptions": {},
           "version": 2,
           "xAxis": {
            "labels": {
             "enabled": true
            },
            "type": "-"
           },
           "yAxis": [
            {
             "type": "-"
            },
            {
             "opposite": true,
             "type": "-"
            }
           ]
          }
         }
        ]
       },
       "datasetPreviewNameToCmdIdMap": {},
       "diffDeletes": [],
       "diffInserts": [],
       "displayType": "redashChart",
       "error": null,
       "errorDetails": null,
       "errorSummary": null,
       "errorTraceType": null,
       "finishTime": 0,
       "globalVars": {},
       "guid": "",
       "height": "auto",
       "hideCommandCode": false,
       "hideCommandResult": false,
       "iPythonMetadata": null,
       "inputWidgets": {},
       "isLockedInExamMode": false,
       "latestUser": "a user",
       "latestUserId": null,
       "listResultMetadata": null,
       "metadata": {},
       "nuid": "6471c160-1e4c-4ecd-98b6-e595f304e5a9",
       "origId": 0,
       "parentHierarchy": [],
       "pivotAggregation": null,
       "pivotColumns": null,
       "position": 13.0,
       "resultDbfsErrorMessage": null,
       "resultDbfsStatus": "INLINED_IN_TREE",
       "results": null,
       "showCommandTitle": false,
       "startTime": 0,
       "state": "input",
       "streamStates": {},
       "subcommandOptions": {
        "queryPlan": {
         "groups": [
          {
           "column": "customer_id",
           "type": "column"
          }
         ],
         "selects": [
          {
           "column": "customer_id",
           "type": "column"
          },
          {
           "alias": "column_7dfee5cf25",
           "args": [
            {
             "column": "No. of times visited restaurant",
             "type": "column"
            }
           ],
           "function": "SUM",
           "type": "function"
          }
         ]
        }
       },
       "submitTime": 0,
       "subtype": "tableResultSubCmd.visualization",
       "tableResultIndex": 0,
       "tableResultSettingsMap": {},
       "useConsistentColors": false,
       "version": "CommandV1",
       "width": "auto",
       "workflows": [],
       "xColumns": null,
       "yColumns": null
      }
     },
     "output_type": "display_data"
    }
   ],
   "source": [
    "df9 = sales_df.filter(sales_df.source_order=='Restaurant').groupBy(sales_df.customer_id).agg(F.countDistinct(sales_df.order_date).alias('No. of times visited restaurant')).orderBy(sales_df.customer_id)\n",
    "display(df9)"
   ]
  },
  {
   "cell_type": "code",
   "execution_count": 0,
   "metadata": {
    "application/vnd.databricks.v1+cell": {
     "cellMetadata": {
      "byteLimit": 2048000,
      "rowLimit": 10000
     },
     "inputWidgets": {},
     "nuid": "538984d5-a9e2-4b15-b945-ac9a7eb2aa85",
     "showTitle": true,
     "tableResultSettingsMap": {},
     "title": "Total sales by each country"
    }
   },
   "outputs": [
    {
     "output_type": "display_data",
     "data": {
      "text/html": [
       "<style scoped>\n",
       "  .table-result-container {\n",
       "    max-height: 300px;\n",
       "    overflow: auto;\n",
       "  }\n",
       "  table, th, td {\n",
       "    border: 1px solid black;\n",
       "    border-collapse: collapse;\n",
       "  }\n",
       "  th, td {\n",
       "    padding: 5px;\n",
       "  }\n",
       "  th {\n",
       "    text-align: left;\n",
       "  }\n",
       "</style><div class='table-result-container'><table class='table-result'><thead style='background-color: white'><tr><th>location</th><th>Total amount spent by the country</th></tr></thead><tbody><tr><td>India</td><td>4860</td></tr><tr><td>UK</td><td>7020</td></tr><tr><td>USA</td><td>2460</td></tr></tbody></table></div>"
      ]
     },
     "metadata": {
      "application/vnd.databricks.v1+output": {
       "addedWidgets": {},
       "aggData": [],
       "aggError": "",
       "aggOverflow": false,
       "aggSchema": [],
       "aggSeriesLimitReached": false,
       "aggType": "",
       "arguments": {},
       "columnCustomDisplayInfos": {},
       "data": [
        [
         "India",
         4860
        ],
        [
         "UK",
         7020
        ],
        [
         "USA",
         2460
        ]
       ],
       "datasetInfos": [],
       "dbfsResultPath": null,
       "isJsonSchema": true,
       "metadata": {},
       "overflow": false,
       "plotOptions": {
        "customPlotOptions": {},
        "displayType": "table",
        "pivotAggregation": null,
        "pivotColumns": null,
        "xColumns": null,
        "yColumns": null
       },
       "removedWidgets": [],
       "schema": [
        {
         "metadata": "{}",
         "name": "location",
         "type": "\"string\""
        },
        {
         "metadata": "{}",
         "name": "Total amount spent by the country",
         "type": "\"long\""
        }
       ],
       "type": "table"
      }
     },
     "output_type": "display_data"
    },
    {
     "output_type": "display_data",
     "data": {
      "text/plain": [
       "Databricks visualization. Run in Databricks to view."
      ]
     },
     "metadata": {
      "application/vnd.databricks.v1.subcommand+json": {
       "baseErrorDetails": null,
       "bindings": {},
       "collapsed": false,
       "command": "%python\n__backend_agg_display_orig = display\n__backend_agg_dfs = []\ndef __backend_agg_display_new(df):\n    __backend_agg_df_modules = [\"pandas.core.frame\", \"databricks.koalas.frame\", \"pyspark.sql.dataframe\", \"pyspark.pandas.frame\", \"pyspark.sql.connect.dataframe\"]\n    if (type(df).__module__ in __backend_agg_df_modules and type(df).__name__ == 'DataFrame') or isinstance(df, list):\n        __backend_agg_dfs.append(df)\n\ndisplay = __backend_agg_display_new\n\ndef __backend_agg_user_code_fn():\n    import base64\n    exec(base64.standard_b64decode(\"ZGYxMCA9IHNhbGVzX2RmLmpvaW4obWVudV9kZixzYWxlc19kZi5wcm9kdWN0X2lkPT1tZW51X2RmLnByb2R1Y3RfaWQsJ2lubmVyJykuZ3JvdXBCeShzYWxlc19kZi5sb2NhdGlvbikuYWdnKEYuc3VtKG1lbnVfZGYucHJpY2UpLmFsaWFzKCdUb3RhbCBhbW91bnQgc3BlbnQgYnkgdGhlIGNvdW50cnknKSkub3JkZXJCeShzYWxlc19kZi5sb2NhdGlvbikKZGlzcGxheShkZjEwKQ==\").decode())\n\ntry:\n    # run user code\n    __backend_agg_user_code_fn()\n\n    #reset display function\n    display = __backend_agg_display_orig\n\n    if len(__backend_agg_dfs) > 0:\n        # create a temp view\n        if type(__backend_agg_dfs[0]).__module__ == \"databricks.koalas.frame\":\n            # koalas dataframe\n            __backend_agg_dfs[0].to_spark().createOrReplaceTempView(\"DatabricksView13d26f4\")\n        elif type(__backend_agg_dfs[0]).__module__ == \"pandas.core.frame\" or isinstance(__backend_agg_dfs[0], list):\n            # pandas dataframe\n            spark.createDataFrame(__backend_agg_dfs[0]).createOrReplaceTempView(\"DatabricksView13d26f4\")\n        else:\n            __backend_agg_dfs[0].createOrReplaceTempView(\"DatabricksView13d26f4\")\n        #run backend agg\n        display(spark.sql(\"\"\"WITH q AS (select * from DatabricksView13d26f4) SELECT `location`,SUM(`Total amount spent by the country`) `column_7dfee5cf28` FROM q GROUP BY `location`\"\"\"))\n    else:\n        displayHTML(\"dataframe no longer exists. If you're using dataframe.display(), use display(dataframe) instead.\")\n\n\nfinally:\n    spark.sql(\"drop view if exists DatabricksView13d26f4\")\n    display = __backend_agg_display_orig\n    del __backend_agg_display_new\n    del __backend_agg_display_orig\n    del __backend_agg_dfs\n    del __backend_agg_user_code_fn\n\n",
       "commandTitle": "Visualization 1",
       "commandType": "auto",
       "commandVersion": 0,
       "commentThread": [],
       "commentsVisible": false,
       "contentSha256Hex": null,
       "customPlotOptions": {
        "redashChart": [
         {
          "key": "type",
          "value": "CHART"
         },
         {
          "key": "options",
          "value": {
           "alignYAxesAtZero": true,
           "coefficient": 1,
           "columnConfigurationMap": {
            "x": {
             "column": "location",
             "id": "column_7dfee5cf27"
            },
            "y": [
             {
              "column": "Total amount spent by the country",
              "id": "column_7dfee5cf28",
              "transform": "SUM"
             }
            ]
           },
           "dateTimeFormat": "DD/MM/YYYY HH:mm",
           "direction": {
            "type": "counterclockwise"
           },
           "error_y": {
            "type": "data",
            "visible": true
           },
           "globalSeriesType": "column",
           "isAggregationOn": true,
           "legend": {
            "traceorder": "normal"
           },
           "missingValuesAsZero": true,
           "numberFormat": "0,0.[00000]",
           "percentFormat": "0[.]00%",
           "series": {
            "error_y": {
             "type": "data",
             "visible": true
            },
            "stacking": null
           },
           "seriesOptions": {
            "column_7dfee5cf28": {
             "color": "#049235",
             "name": "Total amount spent by the country",
             "yAxis": 0
            }
           },
           "showDataLabels": true,
           "sizemode": "diameter",
           "sortX": true,
           "sortY": true,
           "swappedAxes": true,
           "textFormat": "",
           "useAggregationsUi": true,
           "valuesOptions": {},
           "version": 2,
           "xAxis": {
            "labels": {
             "enabled": true
            },
            "type": "-"
           },
           "yAxis": [
            {
             "type": "-"
            },
            {
             "opposite": true,
             "type": "-"
            }
           ]
          }
         }
        ]
       },
       "datasetPreviewNameToCmdIdMap": {},
       "diffDeletes": [],
       "diffInserts": [],
       "displayType": "redashChart",
       "error": null,
       "errorDetails": null,
       "errorSummary": null,
       "errorTraceType": null,
       "finishTime": 0,
       "globalVars": {},
       "guid": "",
       "height": "auto",
       "hideCommandCode": false,
       "hideCommandResult": false,
       "iPythonMetadata": null,
       "inputWidgets": {},
       "isLockedInExamMode": false,
       "latestUser": "a user",
       "latestUserId": null,
       "listResultMetadata": null,
       "metadata": {},
       "nuid": "fca0458a-b3c3-40a2-b70e-886e4f447a63",
       "origId": 0,
       "parentHierarchy": [],
       "pivotAggregation": null,
       "pivotColumns": null,
       "position": 15.0,
       "resultDbfsErrorMessage": null,
       "resultDbfsStatus": "INLINED_IN_TREE",
       "results": null,
       "showCommandTitle": false,
       "startTime": 0,
       "state": "input",
       "streamStates": {},
       "subcommandOptions": {
        "queryPlan": {
         "groups": [
          {
           "column": "location",
           "type": "column"
          }
         ],
         "selects": [
          {
           "column": "location",
           "type": "column"
          },
          {
           "alias": "column_7dfee5cf28",
           "args": [
            {
             "column": "Total amount spent by the country",
             "type": "column"
            }
           ],
           "function": "SUM",
           "type": "function"
          }
         ]
        }
       },
       "submitTime": 0,
       "subtype": "tableResultSubCmd.visualization",
       "tableResultIndex": 0,
       "tableResultSettingsMap": {},
       "useConsistentColors": false,
       "version": "CommandV1",
       "width": "auto",
       "workflows": [],
       "xColumns": null,
       "yColumns": null
      }
     },
     "output_type": "display_data"
    }
   ],
   "source": [
    "df10 = sales_df.join(menu_df,sales_df.product_id==menu_df.product_id,'inner').groupBy(sales_df.location).agg(F.sum(menu_df.price).alias('Total amount spent by the country')).orderBy(sales_df.location)\n",
    "display(df10)"
   ]
  },
  {
   "cell_type": "code",
   "execution_count": 0,
   "metadata": {
    "application/vnd.databricks.v1+cell": {
     "cellMetadata": {
      "byteLimit": 2048000,
      "rowLimit": 10000
     },
     "inputWidgets": {},
     "nuid": "ce228905-c083-43c1-a7c6-abdd5c1b63fa",
     "showTitle": true,
     "tableResultSettingsMap": {},
     "title": "Total sales by order source"
    }
   },
   "outputs": [
    {
     "output_type": "display_data",
     "data": {
      "text/html": [
       "<style scoped>\n",
       "  .table-result-container {\n",
       "    max-height: 300px;\n",
       "    overflow: auto;\n",
       "  }\n",
       "  table, th, td {\n",
       "    border: 1px solid black;\n",
       "    border-collapse: collapse;\n",
       "  }\n",
       "  th, td {\n",
       "    padding: 5px;\n",
       "  }\n",
       "  th {\n",
       "    text-align: left;\n",
       "  }\n",
       "</style><div class='table-result-container'><table class='table-result'><thead style='background-color: white'><tr><th>source_order</th><th>Total amount spent</th></tr></thead><tbody><tr><td>Restaurant</td><td>3090</td></tr><tr><td>Swiggy</td><td>6330</td></tr><tr><td>zomato</td><td>4920</td></tr></tbody></table></div>"
      ]
     },
     "metadata": {
      "application/vnd.databricks.v1+output": {
       "addedWidgets": {},
       "aggData": [],
       "aggError": "",
       "aggOverflow": false,
       "aggSchema": [],
       "aggSeriesLimitReached": false,
       "aggType": "",
       "arguments": {},
       "columnCustomDisplayInfos": {},
       "data": [
        [
         "Restaurant",
         3090
        ],
        [
         "Swiggy",
         6330
        ],
        [
         "zomato",
         4920
        ]
       ],
       "datasetInfos": [],
       "dbfsResultPath": null,
       "isJsonSchema": true,
       "metadata": {},
       "overflow": false,
       "plotOptions": {
        "customPlotOptions": {},
        "displayType": "table",
        "pivotAggregation": null,
        "pivotColumns": null,
        "xColumns": null,
        "yColumns": null
       },
       "removedWidgets": [],
       "schema": [
        {
         "metadata": "{}",
         "name": "source_order",
         "type": "\"string\""
        },
        {
         "metadata": "{}",
         "name": "Total amount spent",
         "type": "\"long\""
        }
       ],
       "type": "table"
      }
     },
     "output_type": "display_data"
    },
    {
     "output_type": "display_data",
     "data": {
      "text/plain": [
       "Databricks visualization. Run in Databricks to view."
      ]
     },
     "metadata": {
      "application/vnd.databricks.v1.subcommand+json": {
       "baseErrorDetails": null,
       "bindings": {},
       "collapsed": false,
       "command": "%python\n__backend_agg_display_orig = display\n__backend_agg_dfs = []\ndef __backend_agg_display_new(df):\n    __backend_agg_df_modules = [\"pandas.core.frame\", \"databricks.koalas.frame\", \"pyspark.sql.dataframe\", \"pyspark.pandas.frame\", \"pyspark.sql.connect.dataframe\"]\n    if (type(df).__module__ in __backend_agg_df_modules and type(df).__name__ == 'DataFrame') or isinstance(df, list):\n        __backend_agg_dfs.append(df)\n\ndisplay = __backend_agg_display_new\n\ndef __backend_agg_user_code_fn():\n    import base64\n    exec(base64.standard_b64decode(\"ZGYxMSA9IHNhbGVzX2RmLmpvaW4obWVudV9kZixzYWxlc19kZi5wcm9kdWN0X2lkPT1tZW51X2RmLnByb2R1Y3RfaWQsJ2lubmVyJykuZ3JvdXBCeShzYWxlc19kZi5zb3VyY2Vfb3JkZXIpLmFnZyhGLnN1bShtZW51X2RmLnByaWNlKS5hbGlhcygnVG90YWwgYW1vdW50IHNwZW50JykpLm9yZGVyQnkoc2FsZXNfZGYuc291cmNlX29yZGVyKQpkaXNwbGF5KGRmMTEp\").decode())\n\ntry:\n    # run user code\n    __backend_agg_user_code_fn()\n\n    #reset display function\n    display = __backend_agg_display_orig\n\n    if len(__backend_agg_dfs) > 0:\n        # create a temp view\n        if type(__backend_agg_dfs[0]).__module__ == \"databricks.koalas.frame\":\n            # koalas dataframe\n            __backend_agg_dfs[0].to_spark().createOrReplaceTempView(\"DatabricksView0cc1f44\")\n        elif type(__backend_agg_dfs[0]).__module__ == \"pandas.core.frame\" or isinstance(__backend_agg_dfs[0], list):\n            # pandas dataframe\n            spark.createDataFrame(__backend_agg_dfs[0]).createOrReplaceTempView(\"DatabricksView0cc1f44\")\n        else:\n            __backend_agg_dfs[0].createOrReplaceTempView(\"DatabricksView0cc1f44\")\n        #run backend agg\n        display(spark.sql(\"\"\"WITH q AS (select * from DatabricksView0cc1f44) SELECT `source_order`,SUM(`Total amount spent`) `column_7dfee5cf31` FROM q GROUP BY `source_order`\"\"\"))\n    else:\n        displayHTML(\"dataframe no longer exists. If you're using dataframe.display(), use display(dataframe) instead.\")\n\n\nfinally:\n    spark.sql(\"drop view if exists DatabricksView0cc1f44\")\n    display = __backend_agg_display_orig\n    del __backend_agg_display_new\n    del __backend_agg_display_orig\n    del __backend_agg_dfs\n    del __backend_agg_user_code_fn\n\n",
       "commandTitle": "Visualization 1",
       "commandType": "auto",
       "commandVersion": 0,
       "commentThread": [],
       "commentsVisible": false,
       "contentSha256Hex": null,
       "customPlotOptions": {
        "redashChart": [
         {
          "key": "type",
          "value": "CHART"
         },
         {
          "key": "options",
          "value": {
           "alignYAxesAtZero": true,
           "coefficient": 1,
           "columnConfigurationMap": {
            "x": {
             "column": "source_order",
             "id": "column_7dfee5cf30"
            },
            "y": [
             {
              "column": "Total amount spent",
              "id": "column_7dfee5cf31",
              "transform": "SUM"
             }
            ]
           },
           "dateTimeFormat": "DD/MM/YYYY HH:mm",
           "direction": {
            "type": "counterclockwise"
           },
           "error_y": {
            "type": "data",
            "visible": true
           },
           "globalSeriesType": "pie",
           "legend": {
            "traceorder": "normal"
           },
           "missingValuesAsZero": true,
           "numberFormat": "0,0.[00000]",
           "percentFormat": "0[.]00%",
           "series": {
            "error_y": {
             "type": "data",
             "visible": true
            },
            "stacking": null
           },
           "seriesOptions": {
            "column_7dfee5cf31": {
             "name": "Total amount spent",
             "type": "pie",
             "yAxis": 0
            }
           },
           "showDataLabels": true,
           "sizemode": "diameter",
           "sortX": true,
           "sortY": true,
           "swappedAxes": false,
           "textFormat": "",
           "useAggregationsUi": true,
           "valuesOptions": {},
           "version": 2,
           "xAxis": {
            "labels": {
             "enabled": true
            },
            "type": "-"
           },
           "yAxis": [
            {
             "type": "-"
            },
            {
             "opposite": true,
             "type": "-"
            }
           ]
          }
         }
        ]
       },
       "datasetPreviewNameToCmdIdMap": {},
       "diffDeletes": [],
       "diffInserts": [],
       "displayType": "redashChart",
       "error": null,
       "errorDetails": null,
       "errorSummary": null,
       "errorTraceType": null,
       "finishTime": 0,
       "globalVars": {},
       "guid": "",
       "height": "auto",
       "hideCommandCode": false,
       "hideCommandResult": false,
       "iPythonMetadata": null,
       "inputWidgets": {},
       "isLockedInExamMode": false,
       "latestUser": "a user",
       "latestUserId": null,
       "listResultMetadata": null,
       "metadata": {},
       "nuid": "2b3b48c9-2d57-4b64-bacd-e25b13ea0cae",
       "origId": 0,
       "parentHierarchy": [],
       "pivotAggregation": null,
       "pivotColumns": null,
       "position": 16.0,
       "resultDbfsErrorMessage": null,
       "resultDbfsStatus": "INLINED_IN_TREE",
       "results": null,
       "showCommandTitle": false,
       "startTime": 0,
       "state": "input",
       "streamStates": {},
       "subcommandOptions": {
        "queryPlan": {
         "groups": [
          {
           "column": "source_order",
           "type": "column"
          }
         ],
         "selects": [
          {
           "column": "source_order",
           "type": "column"
          },
          {
           "alias": "column_7dfee5cf31",
           "args": [
            {
             "column": "Total amount spent",
             "type": "column"
            }
           ],
           "function": "SUM",
           "type": "function"
          }
         ]
        }
       },
       "submitTime": 0,
       "subtype": "tableResultSubCmd.visualization",
       "tableResultIndex": 0,
       "tableResultSettingsMap": {},
       "useConsistentColors": false,
       "version": "CommandV1",
       "width": "auto",
       "workflows": [],
       "xColumns": null,
       "yColumns": null
      }
     },
     "output_type": "display_data"
    }
   ],
   "source": [
    "df11 = sales_df.join(menu_df,sales_df.product_id==menu_df.product_id,'inner').groupBy(sales_df.source_order).agg(F.sum(menu_df.price).alias('Total amount spent')).orderBy(sales_df.source_order)\n",
    "display(df11)"
   ]
  }
 ],
 "metadata": {
  "application/vnd.databricks.v1+notebook": {
   "dashboards": [
    {
     "elements": [],
     "globalVars": {},
     "guid": "",
     "layoutOption": {
      "grid": true,
      "stack": false
     },
     "nuid": "e732619b-83a4-42be-aaae-433ee642a2db",
     "origId": 3486020135612474,
     "title": "salesAnalysis",
     "version": "DashboardViewV1",
     "width": 1024
    },
    {
     "elements": [
      {
       "dashboardResultIndex": null,
       "elementNUID": "fca0458a-b3c3-40a2-b70e-886e4f447a63",
       "elementType": "command",
       "guid": "05af8802-e852-4f8b-8a8e-9750754d6561",
       "options": null,
       "position": {
        "height": 6,
        "width": 12,
        "x": 0,
        "y": 96,
        "z": null
       },
       "resultIndex": null
      },
      {
       "dashboardResultIndex": null,
       "elementNUID": "6471c160-1e4c-4ecd-98b6-e595f304e5a9",
       "elementType": "command",
       "guid": "37056921-73ef-432b-8d57-696d1378ef2a",
       "options": null,
       "position": {
        "height": 6,
        "width": 12,
        "x": 0,
        "y": 84,
        "z": null
       },
       "resultIndex": null
      },
      {
       "dashboardResultIndex": 0,
       "elementNUID": "15f9e0d3-b014-410c-9341-d7d7908767e0",
       "elementType": "command",
       "guid": "3bccc42c-fc11-40bd-9df7-8bec7c720b0a",
       "options": null,
       "position": {
        "height": 6,
        "width": 12,
        "x": 0,
        "y": 18,
        "z": null
       },
       "resultIndex": null
      },
      {
       "dashboardResultIndex": null,
       "elementNUID": "ddd80705-2d12-4d20-a15d-35c524b56894",
       "elementType": "command",
       "guid": "4906a776-1a04-4418-9e6c-9f00cc0327ab",
       "options": null,
       "position": {
        "height": 6,
        "width": 12,
        "x": 0,
        "y": 6,
        "z": null
       },
       "resultIndex": null
      },
      {
       "dashboardResultIndex": 0,
       "elementNUID": "7ce5047c-547e-4d2a-b08b-8b6a7f604855",
       "elementType": "command",
       "guid": "5b8195b9-998c-45fa-8180-7a544dbacd31",
       "options": null,
       "position": {
        "height": 6,
        "width": 12,
        "x": 0,
        "y": 54,
        "z": null
       },
       "resultIndex": null
      },
      {
       "dashboardResultIndex": null,
       "elementNUID": "5945ae58-a6e3-4fbc-915f-88ef073df30c",
       "elementType": "command",
       "guid": "606d0479-e284-4de2-8c07-bdc82fb7eadc",
       "options": null,
       "position": {
        "height": 6,
        "width": 12,
        "x": 0,
        "y": 72,
        "z": null
       },
       "resultIndex": null
      },
      {
       "dashboardResultIndex": 0,
       "elementNUID": "a2cfb0d2-13d9-40ac-bb8f-50a64fb47323",
       "elementType": "command",
       "guid": "6a277487-d394-44a9-a967-e4af8619c295",
       "options": null,
       "position": {
        "height": 6,
        "width": 12,
        "x": 0,
        "y": 12,
        "z": null
       },
       "resultIndex": null
      },
      {
       "dashboardResultIndex": null,
       "elementNUID": "a54374ca-2233-4f3b-9a76-a6178ec91ff3",
       "elementType": "command",
       "guid": "79c27033-e31e-4b3b-bcbf-091008225da1",
       "options": null,
       "position": {
        "height": 6,
        "width": 12,
        "x": 0,
        "y": 42,
        "z": null
       },
       "resultIndex": null
      },
      {
       "dashboardResultIndex": 0,
       "elementNUID": "349f0ac3-2179-4b9b-9ecb-8eb39511382a",
       "elementType": "command",
       "guid": "89f4db4b-908f-43ba-ba16-9156701c9484",
       "options": null,
       "position": {
        "height": 6,
        "width": 12,
        "x": 0,
        "y": 78,
        "z": null
       },
       "resultIndex": null
      },
      {
       "dashboardResultIndex": null,
       "elementNUID": "60860820-1c19-4817-ab47-7183df99a661",
       "elementType": "command",
       "guid": "8c7255ef-f897-485f-8b0a-9e0cceb59c6c",
       "options": {
        "autoScaleImg": false,
        "scale": 0,
        "showTitle": false,
        "titleAlign": "center"
       },
       "position": {
        "height": 7,
        "width": 18,
        "x": 0,
        "y": 24,
        "z": null
       },
       "resultIndex": null
      },
      {
       "dashboardResultIndex": null,
       "elementNUID": "e6323ac6-9461-4af4-ba81-06fac53c0c28",
       "elementType": "command",
       "guid": "b33d7634-79c1-4aed-ad98-61d8e46a3573",
       "options": null,
       "position": {
        "height": 6,
        "width": 12,
        "x": 0,
        "y": 36,
        "z": null
       },
       "resultIndex": null
      },
      {
       "dashboardResultIndex": null,
       "elementNUID": "2b3b48c9-2d57-4b64-bacd-e25b13ea0cae",
       "elementType": "command",
       "guid": "bf506da9-0c88-4404-972c-f516d9587af2",
       "options": null,
       "position": {
        "height": 6,
        "width": 12,
        "x": 0,
        "y": 108,
        "z": null
       },
       "resultIndex": null
      },
      {
       "dashboardResultIndex": 0,
       "elementNUID": "89169eed-6dc4-42ab-8425-1133501994f4",
       "elementType": "command",
       "guid": "bfe736ed-0530-4fbe-be0c-6c91695a6c7b",
       "options": null,
       "position": {
        "height": 6,
        "width": 12,
        "x": 0,
        "y": 48,
        "z": null
       },
       "resultIndex": null
      },
      {
       "dashboardResultIndex": 0,
       "elementNUID": "6ab65e2d-da02-47ef-8b08-4c48f68bf0fa",
       "elementType": "command",
       "guid": "c3387489-36d0-4520-a2d9-382719d22577",
       "options": null,
       "position": {
        "height": 6,
        "width": 12,
        "x": 0,
        "y": 66,
        "z": null
       },
       "resultIndex": null
      },
      {
       "dashboardResultIndex": 0,
       "elementNUID": "538984d5-a9e2-4b15-b945-ac9a7eb2aa85",
       "elementType": "command",
       "guid": "cbf4736e-f209-4866-a189-27d1147d83c7",
       "options": null,
       "position": {
        "height": 6,
        "width": 12,
        "x": 0,
        "y": 90,
        "z": null
       },
       "resultIndex": null
      },
      {
       "dashboardResultIndex": null,
       "elementNUID": "1d490e40-517b-49a4-95d1-f0e9cbc457ad",
       "elementType": "command",
       "guid": "cc69fa27-9a35-4312-a4dc-81bf43160ac4",
       "options": null,
       "position": {
        "height": 6,
        "width": 12,
        "x": 0,
        "y": 60,
        "z": null
       },
       "resultIndex": null
      },
      {
       "dashboardResultIndex": 0,
       "elementNUID": "ce228905-c083-43c1-a7c6-abdd5c1b63fa",
       "elementType": "command",
       "guid": "f599e2ae-65c3-497d-ac5c-74a9a8d5c08f",
       "options": null,
       "position": {
        "height": 6,
        "width": 12,
        "x": 0,
        "y": 102,
        "z": null
       },
       "resultIndex": null
      },
      {
       "dashboardResultIndex": null,
       "elementNUID": "9b92593a-e738-448f-9eb0-c7873a055728",
       "elementType": "command",
       "guid": "f696ff45-3e4e-454f-af0e-fe695056d940",
       "options": null,
       "position": {
        "height": 6,
        "width": 12,
        "x": 0,
        "y": 114,
        "z": null
       },
       "resultIndex": null
      },
      {
       "dashboardResultIndex": 0,
       "elementNUID": "648c6981-3784-4b4f-9c72-f27ec1ae236d",
       "elementType": "command",
       "guid": "f979acdb-752e-4224-bdb1-06c31b6d09b0",
       "options": null,
       "position": {
        "height": 6,
        "width": 12,
        "x": 0,
        "y": 120,
        "z": null
       },
       "resultIndex": null
      }
     ],
     "globalVars": {},
     "guid": "",
     "layoutOption": {
      "grid": true,
      "stack": false
     },
     "nuid": "80f7c3cd-9cc0-47cd-ba13-9a043b2f5067",
     "origId": 3610074993337452,
     "title": "salesAnalysis",
     "version": "DashboardViewV1",
     "width": 1024
    }
   ],
   "environmentMetadata": null,
   "language": "python",
   "notebookMetadata": {
    "pythonIndentUnit": 4
   },
   "notebookName": "Pyspark-case-study-salesAnalysis",
   "widgets": {}
  }
 },
 "nbformat": 4,
 "nbformat_minor": 0
}
